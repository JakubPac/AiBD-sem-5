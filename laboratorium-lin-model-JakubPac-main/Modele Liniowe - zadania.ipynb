{
 "cells": [
  {
   "cell_type": "markdown",
   "metadata": {},
   "source": [
    "##  Regresja liniowa\n",
    "\n",
    "Regresja liniowa to tworzenie modeli przedstawiających wielkość, której wartość chcemy przewidzieć (zmienna zależna) jako kombinację liniową predyktorów (zmiennych zależnych).\n",
    "\n",
    "Struktura modelu ma postać\n",
    "\n",
    "$$\\tilde{y} = \\beta_0 + \\beta_1 x_1 + \\beta_2 x_2 +\\ldots+ \\beta_n x_n$$\n",
    "\n",
    "lub w formie macierzowej \n",
    "\n",
    "$$\\tilde{\\mathbf{y}} = \\mathbf{[1\\  X ]} \\beta$$\n",
    "\n",
    "gdzie wektor wartości zmiennych zależnych jest przewidywany na podstawie macierzy danych i wektora współczynników $\\beta$.\n",
    "\n",
    "Współczynnik $\\beta_0$ w nomentkalturze anglojęzycznej jest nazywany *intercept* ponieważ jest to punkt przecięcia się z osią $y$ gdy wszystkie predyktory są równe 0.\n",
    "\n",
    "Aby wyznaczyć parametry modelu liniowego potrzebujemy wektora danych uczących, tj. znanych nam wartości zmiennej zależnej  $\\mathbf{y}$ oraz odpowiadająxcej mu macierzy predyktorów $\\mathbf{X}$. Macierz predyktorów nosi nazwę *design matrix*, i bardzo użytyeczne do jej wyznaczenia (w oparciu o dane w forme dataframe) jest pakiet [patsy](https://patsy.readthedocs.io/en/latest/quickstart.html), a w szczególności funkcja ```dmatrices```.\n",
    "\n",
    "\n",
    "Model regresyjny ma mocne umocowanie statystyczne, jednak w ramach zajęć będziemy traktować go machinistycznie jak jedną z metod uczenia maszynowego. Do tworzenia takich modeli służy klasa ```LinearRegression```\n",
    "\n",
    "Do analizy regresji liniowej wykorzystywać będziemy pakiet ```scikit-learn``` oraz zawarte w nim klasy, głównie w modułach ```linear_model```, ```metrics``` oraz ```model_selection```. \n",
    "\n",
    "### Dane uczące i dane testowe\n",
    "\n",
    "Zazwyczaj rozwiązując problem nie mamy dostępu do dodatkowych danych testowych uzupełniających nasze dane uczące. Dlatego też, popularną praktyką jest podzielenie posiadanego zbioru danych w sposób losowy na dwa zbiory: uczący i testowy. Do tego służy funkcja ```train_test_split``` z modułu ```model_selection```. \n",
    "\n"
   ]
  },
  {
   "cell_type": "markdown",
   "metadata": {},
   "source": [
    "### Zadanie 1\n",
    "Na podstawie danych zawartych w pliku SCORES.csv wykonaj i oceń regresję liniową, gdzie Twoją daną niezależną (predyktorem) będą godziny poświęcone na przygotowanie, a wynikową uzyskane punkty. Wykonanie zadania powinno składać się z następujących kroków:\n",
    "1. Zaimportowanie niezbędnych bibliotek w szczególności tych tworzących modele liniowe z \"scikit-learn\", a także biblioteki do operacji na danych oraz tworzenia wykresów.\n",
    "2. Odczytaj dane z pliku SCORES.csv. Pomocne w interpretacji danych są metody: head(), describe(), shape.\n",
    "3. Wykonaj wstępny wykres uzyskanych danych (typu \"scatter\")\n",
    "4. Dokonaj podziału danych na zbiory danych niezależnych (wejściowe, X) oraz zaleznych (wyjściowe, y) dla swojego modelu, a następnie podziel zbiór na dane testowe i treningowe (30%)\n",
    "5. Utwórz model regresji liniowej za pomocą sklearn.\n",
    "6. Wypisz i przeanalizuj wyliczone wskaźniki dla modelu: coef_ oraz intercept_. Czym one są i do czego służą?\n",
    "7. Wykorzystając stworozny model dokonaj predykcji dla części testowej X. Porównaj wynik (y_pred) z posiadanymi danymi (y_test).\n",
    "8. Wykonaj wykres konfrontujący dane testowe (X_test, y_test; typu \"scatter\") oraz predykcje (X_test, y_pred; linia prosta)\n",
    "9. Dokonaj walidacji uzyskanych predykcji wykorzystując metryki: średni błąd bezwzględny (Mean Absolute Error), błąd średniokwadratowy (Mean Squared Error) oraz pierwiastek błędu średniokwadratowego (Root Mean Squared Error).\n",
    "\n",
    "Następnie utworzony skrypt wykorzystaj na danych zawartych w SBP.csv, gdzie predyktorem będzie wiek, a wynikiem ciśnienie (SBP). Czy uzyskane wyniki z modelu są równie zadowalające?"
   ]
  },
  {
   "cell_type": "code",
   "execution_count": 2,
   "metadata": {},
   "outputs": [],
   "source": [
    "import sklearn\n",
    "from sklearn.linear_model import LinearRegression, LogisticRegression\n",
    "from sklearn.model_selection import train_test_split\n",
    "from sklearn.metrics import mean_absolute_error, mean_squared_error\n",
    "import matplotlib.pyplot as plt\n",
    "import pandas as pd\n",
    "import numpy as np"
   ]
  },
  {
   "cell_type": "code",
   "execution_count": 10,
   "metadata": {},
   "outputs": [
    {
     "name": "stdout",
     "output_type": "stream",
     "text": [
      "   Hours  Scores\n",
      "0    2.5      21\n",
      "1    5.1      47\n",
      "2    3.2      27\n",
      "3    8.5      75\n",
      "4    3.5      30 \n",
      "\n",
      "           Hours     Scores\n",
      "count  25.000000  25.000000\n",
      "mean    5.012000  51.480000\n",
      "std     2.525094  25.286887\n",
      "min     1.100000  17.000000\n",
      "25%     2.700000  30.000000\n",
      "50%     4.800000  47.000000\n",
      "75%     7.400000  75.000000\n",
      "max     9.200000  95.000000 \n",
      "\n",
      "rozmiar df (25, 2) \n",
      "\n"
     ]
    }
   ],
   "source": [
    "scores=pd.read_csv(\"SCORES.csv\")\n",
    "print(scores.head(),\"\\n\")\n",
    "print(scores.describe(),\"\\n\")\n",
    "print(\"rozmiar df\",scores.shape,\"\\n\")"
   ]
  },
  {
   "cell_type": "code",
   "execution_count": 11,
   "metadata": {},
   "outputs": [
    {
     "data": {
      "text/plain": [
       "Text(0, 0.5, 'Wynik - uzyskane punkty')"
      ]
     },
     "execution_count": 11,
     "metadata": {},
     "output_type": "execute_result"
    },
    {
     "data": {
      "image/png": "[encoded data removed]",
      "text/plain": [
       "<Figure size 1080x720 with 1 Axes>"
      ]
     },
     "metadata": {
      "needs_background": "light"
     },
     "output_type": "display_data"
    }
   ],
   "source": [
    "plt.figure(figsize=(15, 10))\n",
    "plt.scatter(x=scores.Hours, y=scores.Scores)\n",
    "plt.title(\"Wyniki w zaleznosci od poswieconego czasu\", fontsize=20)\n",
    "plt.xlabel(\"Godziny poswiecone na przygotowania\", fontsize=15)\n",
    "plt.ylabel(\"Wynik - uzyskane punkty\", fontsize=15)"
   ]
  },
  {
   "cell_type": "code",
   "execution_count": 36,
   "metadata": {},
   "outputs": [
    {
     "name": "stdout",
     "output_type": "stream",
     "text": [
      "X_train:\n",
      " [[6.1]\n",
      " [7.8]\n",
      " [5.5]\n",
      " [7.7]\n",
      " [1.1]\n",
      " [7.4]\n",
      " [9.2]]\n",
      "y_train:\n",
      " [[67]\n",
      " [86]\n",
      " [60]\n",
      " [85]\n",
      " [17]\n",
      " [69]\n",
      " [88]]\n",
      "X_test:\n",
      " [[8.3]\n",
      " [2.5]\n",
      " [2.5]\n",
      " [6.9]\n",
      " [5.9]\n",
      " [2.7]\n",
      " [3.3]\n",
      " [5.1]\n",
      " [3.8]\n",
      " [1.5]\n",
      " [3.2]\n",
      " [4.5]\n",
      " [8.9]\n",
      " [8.5]\n",
      " [3.5]\n",
      " [2.7]\n",
      " [1.9]\n",
      " [4.8]]\n",
      "y_test:\n",
      " [[81]\n",
      " [30]\n",
      " [21]\n",
      " [76]\n",
      " [62]\n",
      " [25]\n",
      " [42]\n",
      " [47]\n",
      " [35]\n",
      " [20]\n",
      " [27]\n",
      " [41]\n",
      " [95]\n",
      " [75]\n",
      " [30]\n",
      " [30]\n",
      " [24]\n",
      " [54]]\n"
     ]
    }
   ],
   "source": [
    "dane_wej=scores.Hours\n",
    "dane_wyj=scores.Scores\n",
    "\n",
    "X_train,X_test,Y_train,Y_test=train_test_split(dane_wej,dane_wyj,train_size=0.3,random_state=42)\n",
    "X_train = X_train.to_numpy()\n",
    "Y_train = Y_train.to_numpy()\n",
    "X_test = X_test.to_numpy()\n",
    "Y_test = Y_test.to_numpy()\n",
    "# Konwewrsja wketora w macierz\n",
    "X_train=X_train.reshape(-1,1)\n",
    "X_test=X_test.reshape(-1,1)\n",
    "Y_train=Y_train.reshape(-1,1)\n",
    "Y_test=Y_test.reshape(-1,1)\n",
    "\n",
    "print(\"X_train:\\n\", X_train)\n",
    "print(\"y_train:\\n\", Y_train)\n",
    "print(\"X_test:\\n\", X_test)\n",
    "print(\"y_test:\\n\", Y_test)"
   ]
  },
  {
   "cell_type": "code",
   "execution_count": 37,
   "metadata": {},
   "outputs": [
    {
     "name": "stdout",
     "output_type": "stream",
     "text": [
      "Cooficient of determination: 0.9570559793393358\n"
     ]
    }
   ],
   "source": [
    "# Model regresji\n",
    "reg = LinearRegression().fit(X_train, Y_train)\n",
    "# Cooficient of determination - Współczynnik determinacji = jedna z miar jakości dopasowania modelu do danych uczących.\n",
    "print(f\"Cooficient of determination: {reg.score(X_train, Y_train)}\")"
   ]
  },
  {
   "cell_type": "code",
   "execution_count": 38,
   "metadata": {},
   "outputs": [
    {
     "name": "stdout",
     "output_type": "stream",
     "text": [
      "Slope b1 = [[9.21166827]]\n"
     ]
    }
   ],
   "source": [
    "# slope - stromość linii regresji. Slope i Intercept przecięcia mogą być użyte do zdefiniowania zależności liniowej między dwiema zmiennymi: y=ax+b.\n",
    "print(f\"Slope b1 = {reg.coef_}\")"
   ]
  },
  {
   "cell_type": "code",
   "execution_count": 39,
   "metadata": {},
   "outputs": [
    {
     "name": "stdout",
     "output_type": "stream",
     "text": [
      "intercept b0: [8.47389448]\n"
     ]
    }
   ],
   "source": [
    "# Intercept- miejsce, w którym nachylenie przecina oś Y oznaczoną jako b w równaniu nachylenia y=ax+b.\n",
    "print(f\"intercept b0: {reg.intercept_}\")"
   ]
  },
  {
   "cell_type": "code",
   "execution_count": 40,
   "metadata": {},
   "outputs": [
    {
     "name": "stdout",
     "output_type": "stream",
     "text": [
      "y_pred= \n",
      " [[84.93074115]\n",
      " [31.50306516]\n",
      " [31.50306516]\n",
      " [72.03440557]\n",
      " [62.82273729]\n",
      " [33.34539882]\n",
      " [38.87239978]\n",
      " [55.45340267]\n",
      " [43.47823392]\n",
      " [22.29139689]\n",
      " [37.95123295]\n",
      " [49.92640171]\n",
      " [90.45774211]\n",
      " [86.7730748 ]\n",
      " [40.71473343]\n",
      " [33.34539882]\n",
      " [25.9760642 ]\n",
      " [52.68990219]] \n",
      " y_test= \n",
      " [[81]\n",
      " [30]\n",
      " [21]\n",
      " [76]\n",
      " [62]\n",
      " [25]\n",
      " [42]\n",
      " [47]\n",
      " [35]\n",
      " [20]\n",
      " [27]\n",
      " [41]\n",
      " [95]\n",
      " [75]\n",
      " [30]\n",
      " [30]\n",
      " [24]\n",
      " [54]]\n"
     ]
    }
   ],
   "source": [
    "Y_pred=reg.predict(X_test)\n",
    "print(\"y_pred= \\n\", Y_pred,\"\\n y_test= \\n\",Y_test)"
   ]
  },
  {
   "cell_type": "code",
   "execution_count": 41,
   "metadata": {},
   "outputs": [
    {
     "data": {
      "image/png": "[encoded data removed]",
      "text/plain": [
       "<Figure size 1080x720 with 1 Axes>"
      ]
     },
     "metadata": {
      "needs_background": "light"
     },
     "output_type": "display_data"
    }
   ],
   "source": [
    "plt.figure(figsize=(15, 10))\n",
    "plt.plot(X_test, Y_pred, label=\"y_pred\", color='red')\n",
    "plt.scatter(X_test, Y_test, label=\"y_test 70%\", color='blue')\n",
    "plt.legend()\n",
    "plt.show()"
   ]
  },
  {
   "cell_type": "code",
   "execution_count": 43,
   "metadata": {},
   "outputs": [
    {
     "name": "stdout",
     "output_type": "stream",
     "text": [
      "Mean Absolute Error -  5.831138739648878 \n",
      "Mean Squared Error -  47.93953418053297 \n",
      "Root Mean Squared Error -  6.923838110508721\n"
     ]
    }
   ],
   "source": [
    "mae = mean_absolute_error(Y_test, Y_pred)\n",
    "mse = mean_squared_error(Y_test, Y_pred)\n",
    "rmse = np.sqrt(mse)\n",
    "\n",
    "print(\"Mean Absolute Error - \", mae,\"\\nMean Squared Error - \", mse, \"\\nRoot Mean Squared Error - \",rmse)"
   ]
  },
  {
   "cell_type": "markdown",
   "metadata": {},
   "source": [
    "SBP"
   ]
  },
  {
   "cell_type": "code",
   "execution_count": 46,
   "metadata": {},
   "outputs": [
    {
     "name": "stdout",
     "output_type": "stream",
     "text": [
      "   Age  SBP\n",
      "0   60  117\n",
      "1   61  120\n",
      "2   74  145\n",
      "3   57  129\n",
      "4   63  132 \n",
      "\n",
      "             Age         SBP\n",
      "count  19.000000   19.000000\n",
      "mean   64.947368  129.421053\n",
      "std     7.214751   13.454928\n",
      "min    54.000000  111.000000\n",
      "25%    60.500000  119.000000\n",
      "50%    63.000000  129.000000\n",
      "75%    68.500000  137.000000\n",
      "max    79.000000  163.000000 \n",
      "\n",
      "rozmiar df (19, 2) \n",
      "\n"
     ]
    }
   ],
   "source": [
    "sbp=pd.read_csv(\"SBP.csv\")\n",
    "print(sbp.head(),\"\\n\")\n",
    "print(sbp.describe(),\"\\n\")\n",
    "print(\"rozmiar df\",sbp.shape,\"\\n\")"
   ]
  },
  {
   "cell_type": "code",
   "execution_count": 64,
   "metadata": {},
   "outputs": [
    {
     "data": {
      "text/plain": [
       "Text(0, 0.5, 'SBP')"
      ]
     },
     "execution_count": 64,
     "metadata": {},
     "output_type": "execute_result"
    },
    {
     "data": {
      "image/png": "[encoded data removed]",
      "text/plain": [
       "<Figure size 1080x720 with 1 Axes>"
      ]
     },
     "metadata": {
      "needs_background": "light"
     },
     "output_type": "display_data"
    }
   ],
   "source": [
    "plt.figure(figsize=(15, 10))\n",
    "plt.scatter(x=sbp.Age, y=sbp.SBP)\n",
    "plt.title(\"SBP w zaleznosci od wieku\", fontsize=20)\n",
    "plt.xlabel(\"Wiek\", fontsize=15)\n",
    "plt.ylabel(\"SBP\", fontsize=15)"
   ]
  },
  {
   "cell_type": "code",
   "execution_count": 52,
   "metadata": {},
   "outputs": [
    {
     "name": "stdout",
     "output_type": "stream",
     "text": [
      "X_train:\n",
      " [[60]\n",
      " [77]\n",
      " [63]\n",
      " [65]\n",
      " [66]]\n",
      "y_train:\n",
      " [[111]\n",
      " [163]\n",
      " [118]\n",
      " [147]\n",
      " [127]]\n",
      "X_test:\n",
      " [[60]\n",
      " [68]\n",
      " [76]\n",
      " [61]\n",
      " [63]\n",
      " [69]\n",
      " [57]\n",
      " [61]\n",
      " [79]\n",
      " [56]\n",
      " [74]\n",
      " [54]\n",
      " [62]\n",
      " [63]]\n",
      "y_test:\n",
      " [[117]\n",
      " [130]\n",
      " [132]\n",
      " [120]\n",
      " [136]\n",
      " [141]\n",
      " [129]\n",
      " [112]\n",
      " [138]\n",
      " [124]\n",
      " [145]\n",
      " [115]\n",
      " [122]\n",
      " [132]]\n"
     ]
    }
   ],
   "source": [
    "dane_wej2=sbp.Age\n",
    "dane_wyj2=sbp.SBP\n",
    "\n",
    "X_train2,X_test2,Y_train2,Y_test2=train_test_split(dane_wej2,dane_wyj2,train_size=0.3,random_state=42)\n",
    "X_train2 = X_train2.to_numpy()\n",
    "Y_train2 = Y_train2.to_numpy()\n",
    "X_test2 = X_test2.to_numpy()\n",
    "Y_test2 = Y_test2.to_numpy()\n",
    "# Konwewrsja wketora w macierz\n",
    "X_train2=X_train2.reshape(-1,1)\n",
    "X_test2=X_test2.reshape(-1,1)\n",
    "Y_train2=Y_train2.reshape(-1,1)\n",
    "Y_test2=Y_test2.reshape(-1,1)\n",
    "\n",
    "print(\"X_train:\\n\", X_train2)\n",
    "print(\"y_train:\\n\", Y_train2)\n",
    "print(\"X_test:\\n\", X_test2)\n",
    "print(\"y_test:\\n\", Y_test2)"
   ]
  },
  {
   "cell_type": "code",
   "execution_count": 53,
   "metadata": {},
   "outputs": [
    {
     "name": "stdout",
     "output_type": "stream",
     "text": [
      "Cooficient of determination: 0.7909312706288685\n"
     ]
    }
   ],
   "source": [
    "# Model regresji\n",
    "reg = LinearRegression().fit(X_train2, Y_train2)\n",
    "# Cooficient of determination - Współczynnik determinacji = jedna z miar jakości dopasowania modelu do danych uczących.\n",
    "print(f\"Cooficient of determination: {reg.score(X_train2, Y_train2)}\")"
   ]
  },
  {
   "cell_type": "code",
   "execution_count": 54,
   "metadata": {},
   "outputs": [
    {
     "name": "stdout",
     "output_type": "stream",
     "text": [
      "Slope b1 = [[2.95443645]]\n"
     ]
    }
   ],
   "source": [
    "# slope - stromość linii regresji. Slope i Intercept przecięcia mogą być użyte do zdefiniowania zależności liniowej między dwiema zmiennymi: y=ax+b.\n",
    "print(f\"Slope b1 = {reg.coef_}\")"
   ]
  },
  {
   "cell_type": "code",
   "execution_count": 55,
   "metadata": {},
   "outputs": [
    {
     "name": "stdout",
     "output_type": "stream",
     "text": [
      "intercept b0: [-62.38369305]\n"
     ]
    }
   ],
   "source": [
    "# Intercept- miejsce, w którym nachylenie przecina oś Y oznaczoną jako b w równaniu nachylenia y=ax+b.\n",
    "print(f\"intercept b0: {reg.intercept_}\")"
   ]
  },
  {
   "cell_type": "code",
   "execution_count": 56,
   "metadata": {},
   "outputs": [
    {
     "name": "stdout",
     "output_type": "stream",
     "text": [
      "y_pred= \n",
      " [[114.882494  ]\n",
      " [138.51798561]\n",
      " [162.15347722]\n",
      " [117.83693046]\n",
      " [123.74580336]\n",
      " [141.47242206]\n",
      " [106.01918465]\n",
      " [117.83693046]\n",
      " [171.01678657]\n",
      " [103.0647482 ]\n",
      " [156.24460432]\n",
      " [ 97.1558753 ]\n",
      " [120.79136691]\n",
      " [123.74580336]] \n",
      " y_test= \n",
      " [[117]\n",
      " [130]\n",
      " [132]\n",
      " [120]\n",
      " [136]\n",
      " [141]\n",
      " [129]\n",
      " [112]\n",
      " [138]\n",
      " [124]\n",
      " [145]\n",
      " [115]\n",
      " [122]\n",
      " [132]]\n"
     ]
    }
   ],
   "source": [
    "Y_pred2=reg.predict(X_test2)\n",
    "print(\"y_pred= \\n\", Y_pred2,\"\\n y_test= \\n\",Y_test2)"
   ]
  },
  {
   "cell_type": "code",
   "execution_count": 57,
   "metadata": {},
   "outputs": [
    {
     "data": {
      "image/png": "[encoded data removed]",
      "text/plain": [
       "<Figure size 1080x720 with 1 Axes>"
      ]
     },
     "metadata": {
      "needs_background": "light"
     },
     "output_type": "display_data"
    }
   ],
   "source": [
    "plt.figure(figsize=(15, 10))\n",
    "plt.plot(X_test2, Y_pred2, label=\"y_pred\", color='red')\n",
    "plt.scatter(X_test2, Y_test2, label=\"y_test 70%\", color='blue')\n",
    "plt.legend()\n",
    "plt.show()"
   ]
  },
  {
   "cell_type": "code",
   "execution_count": 58,
   "metadata": {},
   "outputs": [
    {
     "name": "stdout",
     "output_type": "stream",
     "text": [
      "Mean Absolute Error -  12.64285714285715 \n",
      "Mean Squared Error -  267.5976107089664 \n",
      "Root Mean Squared Error -  16.35841100807063\n"
     ]
    }
   ],
   "source": [
    "mae2 = mean_absolute_error(Y_test2, Y_pred2)\n",
    "mse2 = mean_squared_error(Y_test2, Y_pred2)\n",
    "rmse2 = np.sqrt(mse2)\n",
    "\n",
    "print(\"Mean Absolute Error - \", mae2,\"\\nMean Squared Error - \", mse2, \"\\nRoot Mean Squared Error - \",rmse2)"
   ]
  },
  {
   "cell_type": "markdown",
   "metadata": {},
   "source": [
    "### Zadanie 2\n",
    "Na podstawie danych zawartych w pliku PETROL.csv wykonaj i oceń regresję liniową. Jako daną zależną wykorzystaj zużycie paliwa, a pozostałe - jako predyktory. Wykonanie zadania powinno składać się z kroków podobnych do tych z zadania poprzedniego.\n",
    "\n",
    "Czy uzyskane wyniki predykcji modelu są dobre? Co mogło mieć pozytywny/negatywny wpływ na taki wynik?"
   ]
  },
  {
   "cell_type": "code",
   "execution_count": 59,
   "metadata": {},
   "outputs": [
    {
     "name": "stdout",
     "output_type": "stream",
     "text": [
      "   Podatek_paliwowy  Sredni_przychod  Utwardzone_autostrady  \\\n",
      "0               9.0             3571                   1976   \n",
      "1               9.0             4092                   1250   \n",
      "2               9.0             3865                   1586   \n",
      "3               7.5             4870                   2351   \n",
      "4               8.0             4399                    431   \n",
      "\n",
      "   Procent_ludnosci_z_prawem_jazdy  Zuzycie_paliwa  \n",
      "0                            0.525             541  \n",
      "1                            0.572             524  \n",
      "2                            0.580             561  \n",
      "3                            0.529             414  \n",
      "4                            0.544             410   \n",
      "\n",
      "       Podatek_paliwowy  Sredni_przychod  Utwardzone_autostrady  \\\n",
      "count         48.000000        48.000000              48.000000   \n",
      "mean           7.668333      4241.833333            5565.416667   \n",
      "std            0.950770       573.623768            3491.507166   \n",
      "min            5.000000      3063.000000             431.000000   \n",
      "25%            7.000000      3739.000000            3110.250000   \n",
      "50%            7.500000      4298.000000            4735.500000   \n",
      "75%            8.125000      4578.750000            7156.000000   \n",
      "max           10.000000      5342.000000           17782.000000   \n",
      "\n",
      "       Procent_ludnosci_z_prawem_jazdy  Zuzycie_paliwa  \n",
      "count                        48.000000       48.000000  \n",
      "mean                          0.570333      576.770833  \n",
      "std                           0.055470      111.885816  \n",
      "min                           0.451000      344.000000  \n",
      "25%                           0.529750      509.500000  \n",
      "50%                           0.564500      568.500000  \n",
      "75%                           0.595250      632.750000  \n",
      "max                           0.724000      968.000000   \n",
      "\n",
      "rozmiar df (48, 5) \n",
      "\n"
     ]
    }
   ],
   "source": [
    "petrol=pd.read_csv(\"PETROL.csv\")\n",
    "print(petrol.head(),\"\\n\")\n",
    "print(petrol.describe(),\"\\n\")\n",
    "print(\"rozmiar df\",petrol.shape,\"\\n\")"
   ]
  },
  {
   "cell_type": "code",
   "execution_count": 68,
   "metadata": {},
   "outputs": [
    {
     "data": {
      "text/plain": [
       "Text(0, 0.5, 'Podatek paliwowy')"
      ]
     },
     "execution_count": 68,
     "metadata": {},
     "output_type": "execute_result"
    },
    {
     "data": {
      "image/png": "[encoded data removed]",
      "text/plain": [
       "<Figure size 1080x720 with 1 Axes>"
      ]
     },
     "metadata": {
      "needs_background": "light"
     },
     "output_type": "display_data"
    }
   ],
   "source": [
    "plt.figure(figsize=(15, 10))\n",
    "plt.scatter(x=petrol.Podatek_paliwowy, y=petrol.Zuzycie_paliwa)\n",
    "plt.title(\"Zuzycie paliwa w zaleznosci od podatku paliwowego\", fontsize=20)\n",
    "plt.xlabel(\"Zuzycie paliwa\", fontsize=15)\n",
    "plt.ylabel(\"Podatek paliwowy\", fontsize=15)"
   ]
  },
  {
   "cell_type": "code",
   "execution_count": 73,
   "metadata": {},
   "outputs": [
    {
     "data": {
      "text/plain": [
       "Text(0, 0.5, 'Sredni przychod')"
      ]
     },
     "execution_count": 73,
     "metadata": {},
     "output_type": "execute_result"
    },
    {
     "data": {
      "image/png": "[encoded data removed]",
      "text/plain": [
       "<Figure size 1080x720 with 1 Axes>"
      ]
     },
     "metadata": {
      "needs_background": "light"
     },
     "output_type": "display_data"
    }
   ],
   "source": [
    "plt.figure(figsize=(15, 10))\n",
    "plt.scatter(x=petrol.Sredni_przychod, y=petrol.Zuzycie_paliwa)\n",
    "plt.title(\"Zuzycie paliwa w zaleznosci od sredniego przychodu\", fontsize=20)\n",
    "plt.xlabel(\"Zuzycie paliwa\", fontsize=15)\n",
    "plt.ylabel(\"Sredni przychod\", fontsize=15)"
   ]
  },
  {
   "cell_type": "code",
   "execution_count": 74,
   "metadata": {},
   "outputs": [
    {
     "data": {
      "text/plain": [
       "Text(0, 0.5, 'Ilosc utwadzonych autostrad')"
      ]
     },
     "execution_count": 74,
     "metadata": {},
     "output_type": "execute_result"
    },
    {
     "data": {
      "image/png": "[encoded data removed]",
      "text/plain": [
       "<Figure size 1080x720 with 1 Axes>"
      ]
     },
     "metadata": {
      "needs_background": "light"
     },
     "output_type": "display_data"
    }
   ],
   "source": [
    "plt.figure(figsize=(15, 10))\n",
    "plt.scatter(x=petrol.Utwardzone_autostrady, y=petrol.Zuzycie_paliwa)\n",
    "plt.title(\"Zuzycie paliwa w zaleznosci od ilosci utwadzonych autostrad\", fontsize=20)\n",
    "plt.xlabel(\"Zuzycie paliwa\", fontsize=15)\n",
    "plt.ylabel(\"Ilosc utwadzonych autostrad\", fontsize=15)"
   ]
  },
  {
   "cell_type": "code",
   "execution_count": 75,
   "metadata": {},
   "outputs": [
    {
     "data": {
      "text/plain": [
       "Text(0, 0.5, 'Procent ludzi z prawem jazdy')"
      ]
     },
     "execution_count": 75,
     "metadata": {},
     "output_type": "execute_result"
    },
    {
     "data": {
      "image/png": "[encoded data removed]",
      "text/plain": [
       "<Figure size 1080x720 with 1 Axes>"
      ]
     },
     "metadata": {
      "needs_background": "light"
     },
     "output_type": "display_data"
    }
   ],
   "source": [
    "plt.figure(figsize=(15, 10))\n",
    "plt.scatter(x=petrol.Procent_ludnosci_z_prawem_jazdy, y=petrol.Zuzycie_paliwa)\n",
    "plt.title(\"Zuzycie paliwa w zaleznosci od procentu ludzi z prawem jazdy\", fontsize=20)\n",
    "plt.xlabel(\"Zuzycie paliwa\", fontsize=15)\n",
    "plt.ylabel(\"Procent ludzi z prawem jazdy\", fontsize=15)"
   ]
  },
  {
   "cell_type": "code",
   "execution_count": 91,
   "metadata": {},
   "outputs": [
    {
     "name": "stdout",
     "output_type": "stream",
     "text": [
      "X_train:\n",
      " [[5.0000e+00 4.0450e+03 1.7782e+04 5.6600e-01]\n",
      " [6.5800e+00 3.8020e+03 7.8340e+03 6.2900e-01]\n",
      " [9.0000e+00 4.2580e+03 4.6860e+03 5.1700e-01]\n",
      " [7.0000e+00 3.6560e+03 3.9850e+03 5.6300e-01]\n",
      " [8.0000e+00 4.3910e+03 5.9390e+03 5.3000e-01]\n",
      " [9.0000e+00 4.8970e+03 2.4490e+03 5.1100e-01]\n",
      " [7.0000e+00 4.7160e+03 5.9150e+03 7.2400e-01]\n",
      " [7.0000e+00 5.0020e+03 9.7940e+03 5.9300e-01]\n",
      " [7.0000e+00 4.5930e+03 7.8340e+03 6.6300e-01]\n",
      " [8.0000e+00 5.1260e+03 2.1380e+03 5.5300e-01]\n",
      " [7.0000e+00 4.3000e+03 3.6350e+03 6.0300e-01]\n",
      " [7.0000e+00 4.3320e+03 8.1590e+03 6.0800e-01]\n",
      " [8.0000e+00 4.1880e+03 5.9750e+03 5.6300e-01]\n",
      " [8.5000e+00 3.6350e+03 3.2740e+03 6.6300e-01]]\n",
      "y_train:\n",
      " [640 644 547 699 580 464 865 524 649 467 632 566 574 648]\n",
      "X_test:\n",
      " [[7.5000e+00 3.8460e+03 9.0610e+03 5.7900e-01]\n",
      " [7.0000e+00 4.4490e+03 4.6390e+03 6.2600e-01]\n",
      " [8.0000e+00 3.4480e+03 5.3990e+03 5.4800e-01]\n",
      " [7.0000e+00 3.7450e+03 2.6110e+03 5.0800e-01]\n",
      " [8.5000e+00 4.5740e+03 2.6190e+03 5.5100e-01]\n",
      " [7.0000e+00 3.8970e+03 6.3850e+03 5.8600e-01]\n",
      " [7.0000e+00 4.8170e+03 6.9300e+03 5.7400e-01]\n",
      " [8.5000e+00 4.3410e+03 6.0100e+03 6.7700e-01]\n",
      " [8.0000e+00 4.3990e+03 4.3100e+02 5.4400e-01]\n",
      " [9.0000e+00 3.7210e+03 4.7460e+03 5.4400e-01]\n",
      " [8.0000e+00 4.4470e+03 8.5770e+03 5.2900e-01]\n",
      " [7.5000e+00 4.8700e+03 2.3510e+03 5.2900e-01]\n",
      " [8.0000e+00 5.3190e+03 1.1868e+04 4.5100e-01]\n",
      " [7.0000e+00 4.3450e+03 3.9050e+03 6.7200e-01]\n",
      " [7.5000e+00 3.3570e+03 4.1210e+03 5.4700e-01]\n",
      " [7.0000e+00 4.2070e+03 6.5800e+03 5.4500e-01]\n",
      " [7.0000e+00 3.7180e+03 4.7250e+03 5.4000e-01]\n",
      " [9.0000e+00 4.4760e+03 3.9420e+03 5.7100e-01]\n",
      " [7.0000e+00 4.3180e+03 1.0340e+04 5.8600e-01]\n",
      " [7.0000e+00 4.5120e+03 8.5070e+03 5.5200e-01]\n",
      " [7.0000e+00 4.2060e+03 8.5080e+03 5.7200e-01]\n",
      " [9.0000e+00 3.6010e+03 4.6500e+03 4.9300e-01]\n",
      " [8.0000e+00 3.0630e+03 6.5240e+03 5.7800e-01]\n",
      " [7.0000e+00 4.2960e+03 4.0830e+03 6.2300e-01]\n",
      " [9.0000e+00 3.5710e+03 1.9760e+03 5.2500e-01]\n",
      " [7.0000e+00 3.3330e+03 6.5940e+03 5.1300e-01]\n",
      " [7.0000e+00 3.6400e+03 6.9050e+03 5.1800e-01]\n",
      " [1.0000e+01 5.3420e+03 1.3330e+03 5.7100e-01]\n",
      " [7.5000e+00 5.1260e+03 1.4186e+04 5.2500e-01]\n",
      " [8.0000e+00 3.5280e+03 3.4950e+03 4.8700e-01]\n",
      " [9.0000e+00 4.0920e+03 1.2500e+03 5.7200e-01]\n",
      " [6.0000e+00 5.2150e+03 2.3020e+03 6.7200e-01]\n",
      " [8.0000e+00 4.9830e+03 6.0200e+02 6.0200e-01]\n",
      " [9.0000e+00 3.8650e+03 1.5860e+03 5.8000e-01]]\n",
      "y_test:\n",
      " [631 587 577 591 460 704 525 640 410 566 464 414 344 968 628 508 714 510\n",
      " 635 498 603 534 577 610 541 554 571 457 471 487 524 782 540 561]\n"
     ]
    }
   ],
   "source": [
    "x= petrol.drop(\"Zuzycie_paliwa\", axis=1)\n",
    "y= petrol.Zuzycie_paliwa\n",
    "\n",
    "X_train,X_test,Y_train,Y_test=train_test_split(x,y,train_size=0.3,random_state=42)\n",
    "X_train2 = X_train.to_numpy()\n",
    "Y_train2 = Y_train.to_numpy()\n",
    "X_test2 = X_test.to_numpy()\n",
    "Y_test2 = Y_test.to_numpy()\n",
    "\n",
    "print(\"X_train:\\n\", X_train2)\n",
    "print(\"y_train:\\n\", Y_train2)\n",
    "print(\"X_test:\\n\", X_test2)\n",
    "print(\"y_test:\\n\", Y_test2)"
   ]
  },
  {
   "cell_type": "code",
   "execution_count": 92,
   "metadata": {},
   "outputs": [
    {
     "name": "stdout",
     "output_type": "stream",
     "text": [
      "Predykcja:\n",
      " [611.3323005  656.98188071 604.70838841 585.18662514 536.25757737\n",
      " 641.42331012 569.91647526 668.1844088  563.45033034 557.84347856\n",
      " 509.65112821 524.82442945 360.00496741 714.80889486 629.11043963\n",
      " 578.50008248 611.31425868 543.21947567 598.49277981 558.78745967\n",
      " 598.58409327 512.11957997 655.01135472 665.63733818 559.06719855\n",
      " 598.59890357 583.62935868 472.52145456 453.88000467 543.98642971\n",
      " 579.48106597 696.92237017 587.66735363 600.38464564] \n",
      "Zb testowy:\n",
      " 27    631\n",
      "40    587\n",
      "26    577\n",
      "43    591\n",
      "24    460\n",
      "37    704\n",
      "12    525\n",
      "19    640\n",
      "4     410\n",
      "25    566\n",
      "8     464\n",
      "3     414\n",
      "6     344\n",
      "39    968\n",
      "33    628\n",
      "13    508\n",
      "17    714\n",
      "45    510\n",
      "15    635\n",
      "9     498\n",
      "16    603\n",
      "29    534\n",
      "32    577\n",
      "46    610\n",
      "0     541\n",
      "31    554\n",
      "30    571\n",
      "5     457\n",
      "11    471\n",
      "34    487\n",
      "1     524\n",
      "44    782\n",
      "21    540\n",
      "2     561\n",
      "Name: Zuzycie_paliwa, dtype: int64\n"
     ]
    }
   ],
   "source": [
    "model = LinearRegression().fit(X_train, Y_train)\n",
    "Y_pred = model.predict(X_test)\n",
    "print(\"Predykcja:\\n\", Y_pred,\"\\nZb testowy:\\n\", Y_test)"
   ]
  },
  {
   "cell_type": "code",
   "execution_count": 93,
   "metadata": {},
   "outputs": [
    {
     "name": "stdout",
     "output_type": "stream",
     "text": [
      "Cooficient: 0.6941583838054549\n",
      "slope b1=[-2.86965691e+01 -6.14847964e-02 -4.30984349e-03  1.04932979e+03]\n",
      "intercept b0=494.51664095599114\n"
     ]
    }
   ],
   "source": [
    "print(f\"Cooficient: {model.score(X_train, Y_train)}\")\n",
    "print(f\"slope b1={model.coef_}\")\n",
    "print(f\"intercept b0={model.intercept_}\")"
   ]
  },
  {
   "cell_type": "code",
   "execution_count": 94,
   "metadata": {},
   "outputs": [
    {
     "name": "stdout",
     "output_type": "stream",
     "text": [
      "Mean Absolute Error -  52.343366201705344 \n",
      "Mean Squared Error -  5079.211715651217 \n",
      "Root Mean Squared Error -  71.26858856222155\n"
     ]
    }
   ],
   "source": [
    "mae = mean_absolute_error(Y_test, Y_pred)\n",
    "mse = mean_squared_error(Y_test, Y_pred)\n",
    "rmse = np.sqrt(mse)\n",
    "\n",
    "print(\"Mean Absolute Error - \", mae,\"\\nMean Squared Error - \", mse, \"\\nRoot Mean Squared Error - \",rmse)"
   ]
  },
  {
   "cell_type": "markdown",
   "metadata": {},
   "source": [
    "### Regresja logistyczna\n",
    "\n",
    "Naturalnym rozwojem modeli linowych, są uogólnione modele liniowe (*generalized linear models*). \n",
    "\n",
    "Ich przewodnią ideą jest to, że zamiast reprezentować zmienną zależną jako kombinację liniową niezależnych, staramy się stworzyć model liniowy pewnej funkcji zmiennej zależnej.\n",
    "\n",
    "$$ f(y) =  \\beta_0 + \\beta_1 x_1 + \\beta_2 x_2 +\\ldots+ \\beta_n x_n$$\n",
    "\n",
    "wymaga się, aby funkcja ta była odwracalna, dzięki czemu \n",
    "\n",
    "$$ y = f^{-1} ( \\beta_0 + \\beta_1 x_1 + \\beta_2 x_2 +\\ldots+ \\beta_n x_n)$$\n",
    "\n",
    "Takie przekształcenie stosujemy wtedy, gdy zbiór wartości zmiennej zależnej nie jest całym zbiorem liczb rzeczywistych tylko jest w jakiś sposób ograniczony. Na przykład do przedziału $[0,1]$, do wartości dodatnich lub wartości całkowitych. W tens posób można wybrać funkcję $f$, której dziedziną jest zbiór wartości $y$ zaś obrazem jest zbiór liczb rzeczywistych.\n",
    "\n",
    "Jedną z takich funkcji jest tzw. funkcja logistyczna, która odpowiada zbiorowi $[0,1]$ przez co często jest wykorzystywana do analizy prawdopodobieństwa przynależności do danej klasy, lub też inaczej jako klasyfikator.\n",
    "\n",
    "W takiej sytuacji zmienne zależne powinny przyjmować wyłącznie wartości $0$ i $1$ co odpowiada temu czy dany punkt należy do interesującej klasy. Model logistyczny poznwala na określenie estymaty prawdopodobieństwa, czy punkt należy czy nie do danej klasy. \n",
    "\n",
    "Do tworzenia modeli logistycznyc służy klasa: ```LogisticRegression```"
   ]
  },
  {
   "cell_type": "markdown",
   "metadata": {},
   "source": [
    "### Zadanie 3\n",
    "\n",
    "Na podstawie danych zawartych w pliku HEART.csv wykonaj i oceń regresję logistyczną, gdzie Twoją daną zależną jest kolumna \"num\". Wykonanie zadania powinno składać się z następujących kroków:\n",
    "\n",
    "1. Zaimportowanie niezbędnych bibliotek w szczególności tych tworzących modele liniowe z \"scikit-learn\", a także biblioteki do operacji na danych oraz tworzenia wykresów.\n",
    "2. Odczytanie danych z pliku HEART.csv. Pomocne w interpretacji danych są metody: head(), describe(), shape.\n",
    "3. Przetworzenie danych, tj: oznaczenie braku danych (\"?\") na NaN, usunięcię kolumn zawierających zbyt dużo brakujących danych (3 kolumny), usunięcie wierszy z brakującymi wartościami.\n",
    "4. Zakoduj niezależne zmienne kategorialne np: jako wartości \"dummy\", za pomoca metody get_dummies(). Zmienne kategorialne to takie, które reprezentuja przynależność do kategorii. W przypadku naszych odfiltrowanych danych będą to kolumny: cp, restecg, fbs, sex, exang. Jako, że trzy ostatnie już zapisane są w formie 0 i 1 tylko cp i restecg wymagają tej operacji.\n",
    "5. Dokonaj podziału danych na zbiory danych niezależnych (wejściowe, X) oraz zależnych (wyjściowe, y) dla swojego modelu, a następnie podziel zbiór na dane testowe i treningowe (20%).\n",
    "6. Utwróz model regresji logistycznej.\n",
    "7. Oceń wynik za pomocą dostępnych metryk (np: metody związane z modelem czy classification_report() z sklearn)\n",
    "\n",
    "Możesz również spróbować ustandaryzować dane (np: poprzez skalowanie) po podziale na zbiory treningowy i testowy."
   ]
  },
  {
   "cell_type": "code",
   "execution_count": 30,
   "metadata": {},
   "outputs": [],
   "source": [
    "from sklearn import preprocessing\n",
    "from sklearn.metrics import classification_report, confusion_matrix, log_loss, accuracy_score, precision_score, recall_score, roc_curve, roc_auc_score"
   ]
  },
  {
   "cell_type": "code",
   "execution_count": 19,
   "metadata": {},
   "outputs": [
    {
     "name": "stdout",
     "output_type": "stream",
     "text": [
      "   age  sex  cp trestbps chol fbs restecg thalach exang  oldpeak slope ca  \\\n",
      "0   28    1   2      130  132   0       2     185     0      0.0     ?  ?   \n",
      "1   29    1   2      120  243   0       0     160     0      0.0     ?  ?   \n",
      "2   29    1   2      140    ?   0       0     170     0      0.0     ?  ?   \n",
      "3   30    0   1      170  237   0       1     170     0      0.0     ?  ?   \n",
      "4   31    0   2      100  219   0       1     150     0      0.0     ?  ?   \n",
      "\n",
      "  thal  num         \n",
      "0    ?           0  \n",
      "1    ?           0  \n",
      "2    ?           0  \n",
      "3    6           0  \n",
      "4    ?           0   \n",
      "\n",
      "              age         sex          cp     oldpeak  num       \n",
      "count  294.000000  294.000000  294.000000  294.000000  294.000000\n",
      "mean    47.826531    0.724490    2.982993    0.586054    0.360544\n",
      "std      7.811812    0.447533    0.965117    0.908648    0.480977\n",
      "min     28.000000    0.000000    1.000000    0.000000    0.000000\n",
      "25%     42.000000    0.000000    2.000000    0.000000    0.000000\n",
      "50%     49.000000    1.000000    3.000000    0.000000    0.000000\n",
      "75%     54.000000    1.000000    4.000000    1.000000    1.000000\n",
      "max     66.000000    1.000000    4.000000    5.000000    1.000000 \n",
      "\n",
      "rozmiar df (294, 14) \n",
      "\n"
     ]
    }
   ],
   "source": [
    "heart=pd.read_csv(\"HEART.csv\")\n",
    "print(heart.head(),\"\\n\")\n",
    "print(heart.describe(),\"\\n\")\n",
    "print(\"rozmiar df\",heart.shape,\"\\n\")"
   ]
  },
  {
   "cell_type": "code",
   "execution_count": 20,
   "metadata": {},
   "outputs": [
    {
     "data": {
      "text/plain": [
       "age             0\n",
       "sex             0\n",
       "cp              0\n",
       "trestbps        1\n",
       "chol           23\n",
       "fbs             8\n",
       "restecg         1\n",
       "thalach         1\n",
       "exang           1\n",
       "oldpeak         0\n",
       "slope         190\n",
       "ca            291\n",
       "thal          266\n",
       "num             0\n",
       "dtype: int64"
      ]
     },
     "execution_count": 20,
     "metadata": {},
     "output_type": "execute_result"
    }
   ],
   "source": [
    "heart = heart.replace(['?'], np.nan)\n",
    "heart.isnull().sum()"
   ]
  },
  {
   "cell_type": "code",
   "execution_count": 21,
   "metadata": {},
   "outputs": [],
   "source": [
    "# Usuwam kolumny ponieważ przeważająca ilość danych w tych kolumnach jest typu None oraz wiersze, które mają chociaż jedną wartość NAN \n",
    "heart = heart.drop(columns=['ca', 'thal', 'slope'])\n",
    "heart = heart.dropna(axis=0, thresh=11)"
   ]
  },
  {
   "cell_type": "code",
   "execution_count": 22,
   "metadata": {},
   "outputs": [
    {
     "data": {
      "text/html": [
       "<div>\n",
       "<style scoped>\n",
       "    .dataframe tbody tr th:only-of-type {\n",
       "        vertical-align: middle;\n",
       "    }\n",
       "\n",
       "    .dataframe tbody tr th {\n",
       "        vertical-align: top;\n",
       "    }\n",
       "\n",
       "    .dataframe thead th {\n",
       "        text-align: right;\n",
       "    }\n",
       "</style>\n",
       "<table border=\"1\" class=\"dataframe\">\n",
       "  <thead>\n",
       "    <tr style=\"text-align: right;\">\n",
       "      <th></th>\n",
       "      <th>age</th>\n",
       "      <th>sex</th>\n",
       "      <th>trestbps</th>\n",
       "      <th>chol</th>\n",
       "      <th>fbs</th>\n",
       "      <th>thalach</th>\n",
       "      <th>exang</th>\n",
       "      <th>oldpeak</th>\n",
       "      <th>num</th>\n",
       "      <th>restecg_0</th>\n",
       "      <th>restecg_1</th>\n",
       "      <th>restecg_2</th>\n",
       "      <th>cp_1</th>\n",
       "      <th>cp_2</th>\n",
       "      <th>cp_3</th>\n",
       "      <th>cp_4</th>\n",
       "    </tr>\n",
       "  </thead>\n",
       "  <tbody>\n",
       "    <tr>\n",
       "      <th>0</th>\n",
       "      <td>28</td>\n",
       "      <td>1</td>\n",
       "      <td>130</td>\n",
       "      <td>132</td>\n",
       "      <td>0</td>\n",
       "      <td>185</td>\n",
       "      <td>0</td>\n",
       "      <td>0.0</td>\n",
       "      <td>0</td>\n",
       "      <td>0</td>\n",
       "      <td>0</td>\n",
       "      <td>1</td>\n",
       "      <td>0</td>\n",
       "      <td>1</td>\n",
       "      <td>0</td>\n",
       "      <td>0</td>\n",
       "    </tr>\n",
       "    <tr>\n",
       "      <th>1</th>\n",
       "      <td>29</td>\n",
       "      <td>1</td>\n",
       "      <td>120</td>\n",
       "      <td>243</td>\n",
       "      <td>0</td>\n",
       "      <td>160</td>\n",
       "      <td>0</td>\n",
       "      <td>0.0</td>\n",
       "      <td>0</td>\n",
       "      <td>1</td>\n",
       "      <td>0</td>\n",
       "      <td>0</td>\n",
       "      <td>0</td>\n",
       "      <td>1</td>\n",
       "      <td>0</td>\n",
       "      <td>0</td>\n",
       "    </tr>\n",
       "    <tr>\n",
       "      <th>3</th>\n",
       "      <td>30</td>\n",
       "      <td>0</td>\n",
       "      <td>170</td>\n",
       "      <td>237</td>\n",
       "      <td>0</td>\n",
       "      <td>170</td>\n",
       "      <td>0</td>\n",
       "      <td>0.0</td>\n",
       "      <td>0</td>\n",
       "      <td>0</td>\n",
       "      <td>1</td>\n",
       "      <td>0</td>\n",
       "      <td>1</td>\n",
       "      <td>0</td>\n",
       "      <td>0</td>\n",
       "      <td>0</td>\n",
       "    </tr>\n",
       "    <tr>\n",
       "      <th>4</th>\n",
       "      <td>31</td>\n",
       "      <td>0</td>\n",
       "      <td>100</td>\n",
       "      <td>219</td>\n",
       "      <td>0</td>\n",
       "      <td>150</td>\n",
       "      <td>0</td>\n",
       "      <td>0.0</td>\n",
       "      <td>0</td>\n",
       "      <td>0</td>\n",
       "      <td>1</td>\n",
       "      <td>0</td>\n",
       "      <td>0</td>\n",
       "      <td>1</td>\n",
       "      <td>0</td>\n",
       "      <td>0</td>\n",
       "    </tr>\n",
       "    <tr>\n",
       "      <th>5</th>\n",
       "      <td>32</td>\n",
       "      <td>0</td>\n",
       "      <td>105</td>\n",
       "      <td>198</td>\n",
       "      <td>0</td>\n",
       "      <td>165</td>\n",
       "      <td>0</td>\n",
       "      <td>0.0</td>\n",
       "      <td>0</td>\n",
       "      <td>1</td>\n",
       "      <td>0</td>\n",
       "      <td>0</td>\n",
       "      <td>0</td>\n",
       "      <td>1</td>\n",
       "      <td>0</td>\n",
       "      <td>0</td>\n",
       "    </tr>\n",
       "    <tr>\n",
       "      <th>...</th>\n",
       "      <td>...</td>\n",
       "      <td>...</td>\n",
       "      <td>...</td>\n",
       "      <td>...</td>\n",
       "      <td>...</td>\n",
       "      <td>...</td>\n",
       "      <td>...</td>\n",
       "      <td>...</td>\n",
       "      <td>...</td>\n",
       "      <td>...</td>\n",
       "      <td>...</td>\n",
       "      <td>...</td>\n",
       "      <td>...</td>\n",
       "      <td>...</td>\n",
       "      <td>...</td>\n",
       "      <td>...</td>\n",
       "    </tr>\n",
       "    <tr>\n",
       "      <th>289</th>\n",
       "      <td>52</td>\n",
       "      <td>1</td>\n",
       "      <td>160</td>\n",
       "      <td>331</td>\n",
       "      <td>0</td>\n",
       "      <td>94</td>\n",
       "      <td>1</td>\n",
       "      <td>2.5</td>\n",
       "      <td>1</td>\n",
       "      <td>1</td>\n",
       "      <td>0</td>\n",
       "      <td>0</td>\n",
       "      <td>0</td>\n",
       "      <td>0</td>\n",
       "      <td>0</td>\n",
       "      <td>1</td>\n",
       "    </tr>\n",
       "    <tr>\n",
       "      <th>290</th>\n",
       "      <td>54</td>\n",
       "      <td>0</td>\n",
       "      <td>130</td>\n",
       "      <td>294</td>\n",
       "      <td>0</td>\n",
       "      <td>100</td>\n",
       "      <td>1</td>\n",
       "      <td>0.0</td>\n",
       "      <td>1</td>\n",
       "      <td>0</td>\n",
       "      <td>1</td>\n",
       "      <td>0</td>\n",
       "      <td>0</td>\n",
       "      <td>0</td>\n",
       "      <td>1</td>\n",
       "      <td>0</td>\n",
       "    </tr>\n",
       "    <tr>\n",
       "      <th>291</th>\n",
       "      <td>56</td>\n",
       "      <td>1</td>\n",
       "      <td>155</td>\n",
       "      <td>342</td>\n",
       "      <td>1</td>\n",
       "      <td>150</td>\n",
       "      <td>1</td>\n",
       "      <td>3.0</td>\n",
       "      <td>1</td>\n",
       "      <td>1</td>\n",
       "      <td>0</td>\n",
       "      <td>0</td>\n",
       "      <td>0</td>\n",
       "      <td>0</td>\n",
       "      <td>0</td>\n",
       "      <td>1</td>\n",
       "    </tr>\n",
       "    <tr>\n",
       "      <th>292</th>\n",
       "      <td>58</td>\n",
       "      <td>0</td>\n",
       "      <td>180</td>\n",
       "      <td>393</td>\n",
       "      <td>0</td>\n",
       "      <td>110</td>\n",
       "      <td>1</td>\n",
       "      <td>1.0</td>\n",
       "      <td>1</td>\n",
       "      <td>1</td>\n",
       "      <td>0</td>\n",
       "      <td>0</td>\n",
       "      <td>0</td>\n",
       "      <td>1</td>\n",
       "      <td>0</td>\n",
       "      <td>0</td>\n",
       "    </tr>\n",
       "    <tr>\n",
       "      <th>293</th>\n",
       "      <td>65</td>\n",
       "      <td>1</td>\n",
       "      <td>130</td>\n",
       "      <td>275</td>\n",
       "      <td>0</td>\n",
       "      <td>115</td>\n",
       "      <td>1</td>\n",
       "      <td>1.0</td>\n",
       "      <td>1</td>\n",
       "      <td>0</td>\n",
       "      <td>1</td>\n",
       "      <td>0</td>\n",
       "      <td>0</td>\n",
       "      <td>0</td>\n",
       "      <td>0</td>\n",
       "      <td>1</td>\n",
       "    </tr>\n",
       "  </tbody>\n",
       "</table>\n",
       "<p>261 rows × 16 columns</p>\n",
       "</div>"
      ],
      "text/plain": [
       "     age  sex trestbps chol fbs thalach exang  oldpeak  num         restecg_0  \\\n",
       "0     28    1      130  132   0     185     0      0.0           0          0   \n",
       "1     29    1      120  243   0     160     0      0.0           0          1   \n",
       "3     30    0      170  237   0     170     0      0.0           0          0   \n",
       "4     31    0      100  219   0     150     0      0.0           0          0   \n",
       "5     32    0      105  198   0     165     0      0.0           0          1   \n",
       "..   ...  ...      ...  ...  ..     ...   ...      ...         ...        ...   \n",
       "289   52    1      160  331   0      94     1      2.5           1          1   \n",
       "290   54    0      130  294   0     100     1      0.0           1          0   \n",
       "291   56    1      155  342   1     150     1      3.0           1          1   \n",
       "292   58    0      180  393   0     110     1      1.0           1          1   \n",
       "293   65    1      130  275   0     115     1      1.0           1          0   \n",
       "\n",
       "     restecg_1  restecg_2  cp_1  cp_2  cp_3  cp_4  \n",
       "0            0          1     0     1     0     0  \n",
       "1            0          0     0     1     0     0  \n",
       "3            1          0     1     0     0     0  \n",
       "4            1          0     0     1     0     0  \n",
       "5            0          0     0     1     0     0  \n",
       "..         ...        ...   ...   ...   ...   ...  \n",
       "289          0          0     0     0     0     1  \n",
       "290          1          0     0     0     1     0  \n",
       "291          0          0     0     0     0     1  \n",
       "292          0          0     0     1     0     0  \n",
       "293          1          0     0     0     0     1  \n",
       "\n",
       "[261 rows x 16 columns]"
      ]
     },
     "execution_count": 22,
     "metadata": {},
     "output_type": "execute_result"
    }
   ],
   "source": [
    "# restecg, cp\n",
    "heart = pd.get_dummies(heart, columns=['restecg', 'cp'])\n",
    "heart"
   ]
  },
  {
   "cell_type": "code",
   "execution_count": 25,
   "metadata": {},
   "outputs": [],
   "source": [
    "cols = list(heart.columns)\n",
    "if 'num' not in cols:\n",
    "    heart.rename(columns={'num       ': 'num'}, inplace=True)"
   ]
  },
  {
   "cell_type": "code",
   "execution_count": 26,
   "metadata": {},
   "outputs": [
    {
     "name": "stdout",
     "output_type": "stream",
     "text": [
      "['age', 'sex', 'trestbps', 'chol', 'fbs', 'thalach', 'exang', 'oldpeak', 'restecg_0', 'restecg_1', 'restecg_2', 'cp_1', 'cp_2', 'cp_3', 'cp_4']\n"
     ]
    }
   ],
   "source": [
    "# Predyktory - Dane wejsciow, niezalezne\n",
    "x = heart.drop('num', axis=1)\n",
    "# Dane zależne\n",
    "y = heart['num']\n",
    "print(list(x.columns))"
   ]
  },
  {
   "cell_type": "code",
   "execution_count": 27,
   "metadata": {},
   "outputs": [],
   "source": [
    "X_train, X_test, Y_train, Y_test = train_test_split(np.array(x), np.array(y), train_size=0.2, random_state=42)"
   ]
  },
  {
   "cell_type": "code",
   "execution_count": 29,
   "metadata": {},
   "outputs": [
    {
     "name": "stdout",
     "output_type": "stream",
     "text": [
      "\n",
      "Dokładność dla danych testowych z pomocą dwóch metryk\n",
      "Nieustandaryzowane:  0.7799043062200957\n",
      "Skalowanie:  0.7703349282296651\n"
     ]
    }
   ],
   "source": [
    "regresjalogistyczna = LogisticRegression(max_iter=3000).fit(X_train, Y_train)\n",
    "y_pred = regresjalogistyczna.predict(X_test)\n",
    "\n",
    "scaler = preprocessing.StandardScaler().fit(X_train)\n",
    "X_train_scaled = scaler.transform(X_train)\n",
    "scaler2 = preprocessing.StandardScaler().fit(X_test)\n",
    "X_test_scaled = scaler2.transform(X_test)\n",
    "model_scaled = LogisticRegression(max_iter=3000).fit(X_train_scaled, Y_train)\n",
    "\n",
    "print('\\nDokładność dla danych testowych z pomocą dwóch metryk')\n",
    "print(\"Nieustandaryzowane: \", model.score(X_test, Y_test))\n",
    "print(\"Skalowanie: \", model_scaled.score(X_test_scaled, Y_test))\n"
   ]
  },
  {
   "cell_type": "code",
   "execution_count": 32,
   "metadata": {},
   "outputs": [
    {
     "name": "stdout",
     "output_type": "stream",
     "text": [
      "Classification method: \n",
      "               precision    recall  f1-score   support\n",
      "\n",
      "     class 0       0.89      0.74      0.81       133\n",
      "     class 1       0.65      0.84      0.74        76\n",
      "\n",
      "    accuracy                           0.78       209\n",
      "   macro avg       0.77      0.79      0.77       209\n",
      "weighted avg       0.81      0.78      0.78       209\n",
      "\n"
     ]
    }
   ],
   "source": [
    "print(\"Classification method: \\n\", classification_report(Y_test, y_pred, target_names=['class 0', 'class 1']))"
   ]
  },
  {
   "cell_type": "code",
   "execution_count": 33,
   "metadata": {},
   "outputs": [
    {
     "name": "stdout",
     "output_type": "stream",
     "text": [
      "Accuracy: 0.7799043062200957\n",
      "Precision: 0.6530612244897959\n",
      "Recall: 0.8421052631578947\n"
     ]
    }
   ],
   "source": [
    "print(\"Accuracy:\", accuracy_score(Y_test, y_pred))\n",
    "print(\"Precision:\", precision_score(Y_test, y_pred))\n",
    "print(\"Recall:\", recall_score(Y_test, y_pred))"
   ]
  }
 ],
 "metadata": {
  "kernelspec": {
   "display_name": "Python 3.9.12 ('AIBD')",
   "language": "python",
   "name": "python3"
  },
  "language_info": {
   "codemirror_mode": {
    "name": "ipython",
    "version": 3
   },
   "file_extension": ".py",
   "mimetype": "text/x-python",
   "name": "python",
   "nbconvert_exporter": "python",
   "pygments_lexer": "ipython3",
   "version": "3.9.12"
  },
  "vscode": {
   "interpreter": {
    "hash": "50afa05c57fdbefd0e663c90dad9857c0cebcc6821222ea89d776f89b8947e4f"
   }
  }
 },
 "nbformat": 4,
 "nbformat_minor": 4
}
