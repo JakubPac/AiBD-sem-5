{
 "cells": [
  {
   "attachments": {},
   "cell_type": "markdown",
   "metadata": {},
   "source": [
    "Jakub Pacoń lab11"
   ]
  },
  {
   "attachments": {},
   "cell_type": "markdown",
   "metadata": {},
   "source": [
    "1. Ile rekordów znajduje się w tabeli nyc_streets?\n",
    "\n",
    "odp: 19091\n",
    "\n",
    "kod: \"SELECT COUNT(*) FROM nyc_streets;\""
   ]
  },
  {
   "attachments": {},
   "cell_type": "markdown",
   "metadata": {},
   "source": [
    "2.\tIle ulic w Nowym Jorku ma nazwy zaczynające się na „B”, „Q” i „M”?\n",
    "\n",
    "odp: 2102\n",
    "\n",
    "kod: \"SELECT COUNT(*) FROM nyc_streets WHERE name ~ '^[B|Q|M]*';\""
   ]
  },
  {
   "attachments": {},
   "cell_type": "markdown",
   "metadata": {},
   "source": [
    "3.\tJaka jest populacja miasta Nowy Jork?\n",
    "\n",
    "odp: 8175032\n",
    "\n",
    "kod: \"SELECT SUM(popn_total) FROM nyc_census_blocks;\""
   ]
  },
  {
   "attachments": {},
   "cell_type": "markdown",
   "metadata": {},
   "source": [
    "4.\tJaka jest populacja Bronxu, Mannhattanu i Queens?\n",
    "\n",
    "Odp:   \n",
    "Łącznie: 5201602, \n",
    "Queens: 2230621, \n",
    "The Bronx: 1385108, \n",
    "Mannhattan: 1585873\n",
    "\n",
    "kod: \"SELECT SUM(popn_total),boroname FROM nyc_census_blocks WHERE boroname='The Bronx' OR boroname='Manhattan' OR boroname='Queens' GROUP BY boroname;\"\n"
   ]
  },
  {
   "attachments": {},
   "cell_type": "markdown",
   "metadata": {},
   "source": [
    "5.\tIle dzielnic (‘neighbourhoods”) znajduję się w każdej gminie (borough)?\n",
    "\n",
    "odp: Manhattan: 28, \n",
    "The Bronx: 24, \n",
    "Staten Island: 24, \n",
    "Brooklyn: 23, \n",
    "Queens: 30\n",
    "\n",
    "kod: \"SELECT boroname, COUNT(name) FROM nyc_neighborhoods GROUP BY boroname;\""
   ]
  }
 ],
 "metadata": {
  "kernelspec": {
   "display_name": "AIBD",
   "language": "python",
   "name": "python3"
  },
  "language_info": {
   "codemirror_mode": {
    "name": "ipython",
    "version": 3
   },
   "file_extension": ".py",
   "mimetype": "text/x-python",
   "name": "python",
   "nbconvert_exporter": "python",
   "pygments_lexer": "ipython3",
   "version": "3.9.12"
  },
  "orig_nbformat": 4,
  "vscode": {
   "interpreter": {
    "hash": "50afa05c57fdbefd0e663c90dad9857c0cebcc6821222ea89d776f89b8947e4f"
   }
  }
 },
 "nbformat": 4,
 "nbformat_minor": 2
}
