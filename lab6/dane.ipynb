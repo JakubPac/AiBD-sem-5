{
 "cells": [
  {
   "cell_type": "code",
   "execution_count": 73,
   "metadata": {},
   "outputs": [],
   "source": [
    "#importy ktore beda potrzebne do cwiczenia\n",
    "import pandas as pd\n",
    "import os\n",
    "import re\n",
    "import numpy as np\n",
    "import matplotlib.pyplot as plt"
   ]
  },
  {
   "cell_type": "code",
   "execution_count": 74,
   "metadata": {},
   "outputs": [
    {
     "data": {
      "text/html": [
       "<div>\n",
       "<style scoped>\n",
       "    .dataframe tbody tr th:only-of-type {\n",
       "        vertical-align: middle;\n",
       "    }\n",
       "\n",
       "    .dataframe tbody tr th {\n",
       "        vertical-align: top;\n",
       "    }\n",
       "\n",
       "    .dataframe thead th {\n",
       "        text-align: right;\n",
       "    }\n",
       "</style>\n",
       "<table border=\"1\" class=\"dataframe\">\n",
       "  <thead>\n",
       "    <tr style=\"text-align: right;\">\n",
       "      <th></th>\n",
       "      <th>Dni_od_zakupu</th>\n",
       "      <th>Marka</th>\n",
       "      <th>Wiek_kupujacego</th>\n",
       "      <th>Plec_kupujacego</th>\n",
       "      <th>Ocena</th>\n",
       "    </tr>\n",
       "  </thead>\n",
       "  <tbody>\n",
       "    <tr>\n",
       "      <th>0</th>\n",
       "      <td>14</td>\n",
       "      <td>Tefal</td>\n",
       "      <td>48.0</td>\n",
       "      <td>K</td>\n",
       "      <td>2.5</td>\n",
       "    </tr>\n",
       "    <tr>\n",
       "      <th>1</th>\n",
       "      <td>5</td>\n",
       "      <td>Samsung</td>\n",
       "      <td>50.0</td>\n",
       "      <td>M</td>\n",
       "      <td>1.5</td>\n",
       "    </tr>\n",
       "    <tr>\n",
       "      <th>2</th>\n",
       "      <td>7</td>\n",
       "      <td>Electrolux</td>\n",
       "      <td>40.0</td>\n",
       "      <td>M</td>\n",
       "      <td>2.0</td>\n",
       "    </tr>\n",
       "    <tr>\n",
       "      <th>3</th>\n",
       "      <td>10</td>\n",
       "      <td>Tefal</td>\n",
       "      <td>32.0</td>\n",
       "      <td>K</td>\n",
       "      <td>3.0</td>\n",
       "    </tr>\n",
       "    <tr>\n",
       "      <th>4</th>\n",
       "      <td>6</td>\n",
       "      <td>Samsung</td>\n",
       "      <td>40.0</td>\n",
       "      <td>M</td>\n",
       "      <td>2.5</td>\n",
       "    </tr>\n",
       "    <tr>\n",
       "      <th>...</th>\n",
       "      <td>...</td>\n",
       "      <td>...</td>\n",
       "      <td>...</td>\n",
       "      <td>...</td>\n",
       "      <td>...</td>\n",
       "    </tr>\n",
       "    <tr>\n",
       "      <th>279</th>\n",
       "      <td>6</td>\n",
       "      <td>Beko</td>\n",
       "      <td>41.0</td>\n",
       "      <td>M</td>\n",
       "      <td>2.0</td>\n",
       "    </tr>\n",
       "    <tr>\n",
       "      <th>280</th>\n",
       "      <td>4</td>\n",
       "      <td>Tefal</td>\n",
       "      <td>28.0</td>\n",
       "      <td>K</td>\n",
       "      <td>3.0</td>\n",
       "    </tr>\n",
       "    <tr>\n",
       "      <th>281</th>\n",
       "      <td>7</td>\n",
       "      <td>Samsung</td>\n",
       "      <td>62.0</td>\n",
       "      <td>M</td>\n",
       "      <td>4.0</td>\n",
       "    </tr>\n",
       "    <tr>\n",
       "      <th>282</th>\n",
       "      <td>2</td>\n",
       "      <td>Tefal</td>\n",
       "      <td>37.0</td>\n",
       "      <td>K</td>\n",
       "      <td>4.0</td>\n",
       "    </tr>\n",
       "    <tr>\n",
       "      <th>283</th>\n",
       "      <td>11</td>\n",
       "      <td>Electrolux</td>\n",
       "      <td>43.0</td>\n",
       "      <td>K</td>\n",
       "      <td>3.5</td>\n",
       "    </tr>\n",
       "  </tbody>\n",
       "</table>\n",
       "<p>284 rows × 5 columns</p>\n",
       "</div>"
      ],
      "text/plain": [
       "     Dni_od_zakupu       Marka  Wiek_kupujacego Plec_kupujacego  Ocena\n",
       "0               14       Tefal             48.0               K    2.5\n",
       "1                5     Samsung             50.0               M    1.5\n",
       "2                7  Electrolux             40.0               M    2.0\n",
       "3               10       Tefal             32.0               K    3.0\n",
       "4                6     Samsung             40.0               M    2.5\n",
       "..             ...         ...              ...             ...    ...\n",
       "279              6        Beko             41.0               M    2.0\n",
       "280              4       Tefal             28.0               K    3.0\n",
       "281              7     Samsung             62.0               M    4.0\n",
       "282              2       Tefal             37.0               K    4.0\n",
       "283             11  Electrolux             43.0               K    3.5\n",
       "\n",
       "[284 rows x 5 columns]"
      ]
     },
     "execution_count": 74,
     "metadata": {},
     "output_type": "execute_result"
    }
   ],
   "source": [
    "dane=pd.read_csv('10_POMORSKIE.csv')\n",
    "dane.drop('Unnamed: 0',axis=1, inplace=True)\n",
    "#zmieniam nazwy kolumn poniewazposiadaly spacje oraz usuwam wiersze, ktore w kolumnie plci maja \"bd.\"\n",
    "dane.rename(columns = {'Dni od zakupu':'Dni_od_zakupu', 'Wiek kupującego':'Wiek_kupujacego','Płeć kupującego':'Plec_kupujacego'}, inplace = True)\n",
    "danenew = dane[dane['Plec_kupujacego'] !='bd.']\n",
    "danenew.reset_index(drop=True, inplace=True)\n",
    "danenew"
   ]
  },
  {
   "cell_type": "code",
   "execution_count": 75,
   "metadata": {},
   "outputs": [
    {
     "name": "stderr",
     "output_type": "stream",
     "text": [
      "C:\\Users\\jakub\\AppData\\Local\\Temp\\ipykernel_14944\\4108378528.py:2: SettingWithCopyWarning: \n",
      "A value is trying to be set on a copy of a slice from a DataFrame\n",
      "\n",
      "See the caveats in the documentation: https://pandas.pydata.org/pandas-docs/stable/user_guide/indexing.html#returning-a-view-versus-a-copy\n",
      "  danenew.sort_values(by=['Wiek_kupujacego'], inplace=True)\n"
     ]
    },
    {
     "data": {
      "text/html": [
       "<div>\n",
       "<style scoped>\n",
       "    .dataframe tbody tr th:only-of-type {\n",
       "        vertical-align: middle;\n",
       "    }\n",
       "\n",
       "    .dataframe tbody tr th {\n",
       "        vertical-align: top;\n",
       "    }\n",
       "\n",
       "    .dataframe thead th {\n",
       "        text-align: right;\n",
       "    }\n",
       "</style>\n",
       "<table border=\"1\" class=\"dataframe\">\n",
       "  <thead>\n",
       "    <tr style=\"text-align: right;\">\n",
       "      <th></th>\n",
       "      <th>Dni_od_zakupu</th>\n",
       "      <th>Marka</th>\n",
       "      <th>Wiek_kupujacego</th>\n",
       "      <th>Plec_kupujacego</th>\n",
       "      <th>Ocena</th>\n",
       "    </tr>\n",
       "  </thead>\n",
       "  <tbody>\n",
       "    <tr>\n",
       "      <th>0</th>\n",
       "      <td>7</td>\n",
       "      <td>Tefal</td>\n",
       "      <td>18.0</td>\n",
       "      <td>K</td>\n",
       "      <td>2.0</td>\n",
       "    </tr>\n",
       "    <tr>\n",
       "      <th>1</th>\n",
       "      <td>9</td>\n",
       "      <td>Samsung</td>\n",
       "      <td>19.0</td>\n",
       "      <td>M</td>\n",
       "      <td>5.0</td>\n",
       "    </tr>\n",
       "    <tr>\n",
       "      <th>2</th>\n",
       "      <td>13</td>\n",
       "      <td>Tefal</td>\n",
       "      <td>19.0</td>\n",
       "      <td>M</td>\n",
       "      <td>1.5</td>\n",
       "    </tr>\n",
       "    <tr>\n",
       "      <th>3</th>\n",
       "      <td>6</td>\n",
       "      <td>Samsung</td>\n",
       "      <td>20.0</td>\n",
       "      <td>M</td>\n",
       "      <td>4.0</td>\n",
       "    </tr>\n",
       "    <tr>\n",
       "      <th>4</th>\n",
       "      <td>8</td>\n",
       "      <td>Beko</td>\n",
       "      <td>20.0</td>\n",
       "      <td>K</td>\n",
       "      <td>2.5</td>\n",
       "    </tr>\n",
       "    <tr>\n",
       "      <th>...</th>\n",
       "      <td>...</td>\n",
       "      <td>...</td>\n",
       "      <td>...</td>\n",
       "      <td>...</td>\n",
       "      <td>...</td>\n",
       "    </tr>\n",
       "    <tr>\n",
       "      <th>255</th>\n",
       "      <td>3</td>\n",
       "      <td>Beko</td>\n",
       "      <td>60.0</td>\n",
       "      <td>M</td>\n",
       "      <td>2.0</td>\n",
       "    </tr>\n",
       "    <tr>\n",
       "      <th>256</th>\n",
       "      <td>8</td>\n",
       "      <td>Electrolux</td>\n",
       "      <td>60.0</td>\n",
       "      <td>K</td>\n",
       "      <td>5.0</td>\n",
       "    </tr>\n",
       "    <tr>\n",
       "      <th>257</th>\n",
       "      <td>7</td>\n",
       "      <td>Samsung</td>\n",
       "      <td>62.0</td>\n",
       "      <td>M</td>\n",
       "      <td>4.0</td>\n",
       "    </tr>\n",
       "    <tr>\n",
       "      <th>258</th>\n",
       "      <td>4</td>\n",
       "      <td>Beko</td>\n",
       "      <td>64.0</td>\n",
       "      <td>K</td>\n",
       "      <td>1.0</td>\n",
       "    </tr>\n",
       "    <tr>\n",
       "      <th>259</th>\n",
       "      <td>4</td>\n",
       "      <td>Electrolux</td>\n",
       "      <td>71.0</td>\n",
       "      <td>M</td>\n",
       "      <td>3.0</td>\n",
       "    </tr>\n",
       "  </tbody>\n",
       "</table>\n",
       "<p>260 rows × 5 columns</p>\n",
       "</div>"
      ],
      "text/plain": [
       "     Dni_od_zakupu       Marka  Wiek_kupujacego Plec_kupujacego  Ocena\n",
       "0                7       Tefal             18.0               K    2.0\n",
       "1                9     Samsung             19.0               M    5.0\n",
       "2               13       Tefal             19.0               M    1.5\n",
       "3                6     Samsung             20.0               M    4.0\n",
       "4                8        Beko             20.0               K    2.5\n",
       "..             ...         ...              ...             ...    ...\n",
       "255              3        Beko             60.0               M    2.0\n",
       "256              8  Electrolux             60.0               K    5.0\n",
       "257              7     Samsung             62.0               M    4.0\n",
       "258              4        Beko             64.0               K    1.0\n",
       "259              4  Electrolux             71.0               M    3.0\n",
       "\n",
       "[260 rows x 5 columns]"
      ]
     },
     "execution_count": 75,
     "metadata": {},
     "output_type": "execute_result"
    }
   ],
   "source": [
    "#usuwam wiersze, ktore maja w kolumnie wieku NaN\n",
    "danenew.sort_values(by=['Wiek_kupujacego'], inplace=True)\n",
    "danenew1=danenew.dropna()\n",
    "danenew1.reset_index(drop=True, inplace=True)\n",
    "danenew1"
   ]
  },
  {
   "cell_type": "code",
   "execution_count": 76,
   "metadata": {},
   "outputs": [
    {
     "data": {
      "image/png": "[encoded data removed]",
      "text/plain": [
       "<Figure size 1080x432 with 1 Axes>"
      ]
     },
     "metadata": {},
     "output_type": "display_data"
    }
   ],
   "source": [
    "#histogram pokazujący rozklad plci\n",
    "facecolor = '#EAEAEA'\n",
    "color_bars = '#EAEAEA'\n",
    "fig, ax = plt.subplots(1, figsize=(15, 6), facecolor=facecolor)\n",
    "ax.set_facecolor(facecolor)\n",
    "danenew[\"Plec_kupujacego\"].hist(bins=3)\n",
    "plt.title(\"Płeć kupującego\", fontsize=20)\n",
    "plt.xlabel(\"Płeć\", fontsize=18)\n",
    "plt.ylabel(\"Liczba osób\", fontsize=18)\n",
    "fig.savefig(\"C:/Users/jakub/Desktop/repo AIBD\\AiBD-sem-5/lab6/Rozklad_plci.png\")"
   ]
  },
  {
   "cell_type": "code",
   "execution_count": 77,
   "metadata": {},
   "outputs": [
    {
     "data": {
      "text/html": [
       "<div>\n",
       "<style scoped>\n",
       "    .dataframe tbody tr th:only-of-type {\n",
       "        vertical-align: middle;\n",
       "    }\n",
       "\n",
       "    .dataframe tbody tr th {\n",
       "        vertical-align: top;\n",
       "    }\n",
       "\n",
       "    .dataframe thead th {\n",
       "        text-align: right;\n",
       "    }\n",
       "</style>\n",
       "<table border=\"1\" class=\"dataframe\">\n",
       "  <thead>\n",
       "    <tr style=\"text-align: right;\">\n",
       "      <th></th>\n",
       "      <th>Dni_od_zakupu</th>\n",
       "      <th>Marka</th>\n",
       "      <th>Wiek_kupujacego</th>\n",
       "      <th>Plec_kupujacego</th>\n",
       "      <th>Ocena</th>\n",
       "    </tr>\n",
       "  </thead>\n",
       "  <tbody>\n",
       "    <tr>\n",
       "      <th>0</th>\n",
       "      <td>9</td>\n",
       "      <td>Samsung</td>\n",
       "      <td>19.0</td>\n",
       "      <td>M</td>\n",
       "      <td>5.0</td>\n",
       "    </tr>\n",
       "    <tr>\n",
       "      <th>1</th>\n",
       "      <td>13</td>\n",
       "      <td>Tefal</td>\n",
       "      <td>19.0</td>\n",
       "      <td>M</td>\n",
       "      <td>1.5</td>\n",
       "    </tr>\n",
       "    <tr>\n",
       "      <th>2</th>\n",
       "      <td>6</td>\n",
       "      <td>Samsung</td>\n",
       "      <td>20.0</td>\n",
       "      <td>M</td>\n",
       "      <td>4.0</td>\n",
       "    </tr>\n",
       "    <tr>\n",
       "      <th>3</th>\n",
       "      <td>6</td>\n",
       "      <td>Tefal</td>\n",
       "      <td>21.0</td>\n",
       "      <td>M</td>\n",
       "      <td>1.0</td>\n",
       "    </tr>\n",
       "    <tr>\n",
       "      <th>4</th>\n",
       "      <td>6</td>\n",
       "      <td>Tefal</td>\n",
       "      <td>22.0</td>\n",
       "      <td>M</td>\n",
       "      <td>2.5</td>\n",
       "    </tr>\n",
       "    <tr>\n",
       "      <th>...</th>\n",
       "      <td>...</td>\n",
       "      <td>...</td>\n",
       "      <td>...</td>\n",
       "      <td>...</td>\n",
       "      <td>...</td>\n",
       "    </tr>\n",
       "    <tr>\n",
       "      <th>118</th>\n",
       "      <td>10</td>\n",
       "      <td>Samsung</td>\n",
       "      <td>59.0</td>\n",
       "      <td>M</td>\n",
       "      <td>0.5</td>\n",
       "    </tr>\n",
       "    <tr>\n",
       "      <th>119</th>\n",
       "      <td>8</td>\n",
       "      <td>Tefal</td>\n",
       "      <td>60.0</td>\n",
       "      <td>M</td>\n",
       "      <td>4.0</td>\n",
       "    </tr>\n",
       "    <tr>\n",
       "      <th>120</th>\n",
       "      <td>3</td>\n",
       "      <td>Beko</td>\n",
       "      <td>60.0</td>\n",
       "      <td>M</td>\n",
       "      <td>2.0</td>\n",
       "    </tr>\n",
       "    <tr>\n",
       "      <th>121</th>\n",
       "      <td>7</td>\n",
       "      <td>Samsung</td>\n",
       "      <td>62.0</td>\n",
       "      <td>M</td>\n",
       "      <td>4.0</td>\n",
       "    </tr>\n",
       "    <tr>\n",
       "      <th>122</th>\n",
       "      <td>4</td>\n",
       "      <td>Electrolux</td>\n",
       "      <td>71.0</td>\n",
       "      <td>M</td>\n",
       "      <td>3.0</td>\n",
       "    </tr>\n",
       "  </tbody>\n",
       "</table>\n",
       "<p>123 rows × 5 columns</p>\n",
       "</div>"
      ],
      "text/plain": [
       "     Dni_od_zakupu       Marka  Wiek_kupujacego Plec_kupujacego  Ocena\n",
       "0                9     Samsung             19.0               M    5.0\n",
       "1               13       Tefal             19.0               M    1.5\n",
       "2                6     Samsung             20.0               M    4.0\n",
       "3                6       Tefal             21.0               M    1.0\n",
       "4                6       Tefal             22.0               M    2.5\n",
       "..             ...         ...              ...             ...    ...\n",
       "118             10     Samsung             59.0               M    0.5\n",
       "119              8       Tefal             60.0               M    4.0\n",
       "120              3        Beko             60.0               M    2.0\n",
       "121              7     Samsung             62.0               M    4.0\n",
       "122              4  Electrolux             71.0               M    3.0\n",
       "\n",
       "[123 rows x 5 columns]"
      ]
     },
     "execution_count": 77,
     "metadata": {},
     "output_type": "execute_result"
    }
   ],
   "source": [
    "#dziele dane poprzez plec\n",
    "daneman=danenew1.loc[danenew1['Plec_kupujacego'].isin(['M'])]\n",
    "daneman.reset_index(drop=True, inplace=True)\n",
    "daneman"
   ]
  },
  {
   "cell_type": "code",
   "execution_count": 78,
   "metadata": {},
   "outputs": [
    {
     "data": {
      "text/html": [
       "<div>\n",
       "<style scoped>\n",
       "    .dataframe tbody tr th:only-of-type {\n",
       "        vertical-align: middle;\n",
       "    }\n",
       "\n",
       "    .dataframe tbody tr th {\n",
       "        vertical-align: top;\n",
       "    }\n",
       "\n",
       "    .dataframe thead th {\n",
       "        text-align: right;\n",
       "    }\n",
       "</style>\n",
       "<table border=\"1\" class=\"dataframe\">\n",
       "  <thead>\n",
       "    <tr style=\"text-align: right;\">\n",
       "      <th></th>\n",
       "      <th>Dni_od_zakupu</th>\n",
       "      <th>Marka</th>\n",
       "      <th>Wiek_kupujacego</th>\n",
       "      <th>Plec_kupujacego</th>\n",
       "      <th>Ocena</th>\n",
       "    </tr>\n",
       "  </thead>\n",
       "  <tbody>\n",
       "    <tr>\n",
       "      <th>0</th>\n",
       "      <td>7</td>\n",
       "      <td>Tefal</td>\n",
       "      <td>18.0</td>\n",
       "      <td>K</td>\n",
       "      <td>2.0</td>\n",
       "    </tr>\n",
       "    <tr>\n",
       "      <th>1</th>\n",
       "      <td>8</td>\n",
       "      <td>Beko</td>\n",
       "      <td>20.0</td>\n",
       "      <td>K</td>\n",
       "      <td>2.5</td>\n",
       "    </tr>\n",
       "    <tr>\n",
       "      <th>2</th>\n",
       "      <td>7</td>\n",
       "      <td>Tefal</td>\n",
       "      <td>22.0</td>\n",
       "      <td>K</td>\n",
       "      <td>1.0</td>\n",
       "    </tr>\n",
       "    <tr>\n",
       "      <th>3</th>\n",
       "      <td>9</td>\n",
       "      <td>Tefal</td>\n",
       "      <td>22.0</td>\n",
       "      <td>K</td>\n",
       "      <td>1.0</td>\n",
       "    </tr>\n",
       "    <tr>\n",
       "      <th>4</th>\n",
       "      <td>7</td>\n",
       "      <td>Beko</td>\n",
       "      <td>23.0</td>\n",
       "      <td>K</td>\n",
       "      <td>4.0</td>\n",
       "    </tr>\n",
       "    <tr>\n",
       "      <th>...</th>\n",
       "      <td>...</td>\n",
       "      <td>...</td>\n",
       "      <td>...</td>\n",
       "      <td>...</td>\n",
       "      <td>...</td>\n",
       "    </tr>\n",
       "    <tr>\n",
       "      <th>132</th>\n",
       "      <td>9</td>\n",
       "      <td>Beko</td>\n",
       "      <td>59.0</td>\n",
       "      <td>K</td>\n",
       "      <td>3.5</td>\n",
       "    </tr>\n",
       "    <tr>\n",
       "      <th>133</th>\n",
       "      <td>1</td>\n",
       "      <td>Beko</td>\n",
       "      <td>59.0</td>\n",
       "      <td>K</td>\n",
       "      <td>1.5</td>\n",
       "    </tr>\n",
       "    <tr>\n",
       "      <th>134</th>\n",
       "      <td>10</td>\n",
       "      <td>Samsung</td>\n",
       "      <td>60.0</td>\n",
       "      <td>K</td>\n",
       "      <td>2.0</td>\n",
       "    </tr>\n",
       "    <tr>\n",
       "      <th>135</th>\n",
       "      <td>8</td>\n",
       "      <td>Electrolux</td>\n",
       "      <td>60.0</td>\n",
       "      <td>K</td>\n",
       "      <td>5.0</td>\n",
       "    </tr>\n",
       "    <tr>\n",
       "      <th>136</th>\n",
       "      <td>4</td>\n",
       "      <td>Beko</td>\n",
       "      <td>64.0</td>\n",
       "      <td>K</td>\n",
       "      <td>1.0</td>\n",
       "    </tr>\n",
       "  </tbody>\n",
       "</table>\n",
       "<p>137 rows × 5 columns</p>\n",
       "</div>"
      ],
      "text/plain": [
       "     Dni_od_zakupu       Marka  Wiek_kupujacego Plec_kupujacego  Ocena\n",
       "0                7       Tefal             18.0               K    2.0\n",
       "1                8        Beko             20.0               K    2.5\n",
       "2                7       Tefal             22.0               K    1.0\n",
       "3                9       Tefal             22.0               K    1.0\n",
       "4                7        Beko             23.0               K    4.0\n",
       "..             ...         ...              ...             ...    ...\n",
       "132              9        Beko             59.0               K    3.5\n",
       "133              1        Beko             59.0               K    1.5\n",
       "134             10     Samsung             60.0               K    2.0\n",
       "135              8  Electrolux             60.0               K    5.0\n",
       "136              4        Beko             64.0               K    1.0\n",
       "\n",
       "[137 rows x 5 columns]"
      ]
     },
     "execution_count": 78,
     "metadata": {},
     "output_type": "execute_result"
    }
   ],
   "source": [
    "danewoman=danenew1.loc[danenew1['Plec_kupujacego'].isin(['K'])]\n",
    "danewoman.reset_index(drop=True, inplace=True)\n",
    "danewoman"
   ]
  },
  {
   "cell_type": "code",
   "execution_count": 79,
   "metadata": {},
   "outputs": [
    {
     "name": "stdout",
     "output_type": "stream",
     "text": [
      "<class 'pandas.core.frame.DataFrame'>\n",
      "RangeIndex: 123 entries, 0 to 122\n",
      "Data columns (total 5 columns):\n",
      " #   Column           Non-Null Count  Dtype  \n",
      "---  ------           --------------  -----  \n",
      " 0   Dni_od_zakupu    123 non-null    int64  \n",
      " 1   Marka            123 non-null    object \n",
      " 2   Wiek_kupujacego  123 non-null    float64\n",
      " 3   Plec_kupujacego  123 non-null    object \n",
      " 4   Ocena            123 non-null    float64\n",
      "dtypes: float64(2), int64(1), object(2)\n",
      "memory usage: 4.9+ KB\n"
     ]
    }
   ],
   "source": [
    "# Informacje od dataframie meżczyzn\n",
    "daneman.info()"
   ]
  },
  {
   "cell_type": "code",
   "execution_count": 80,
   "metadata": {},
   "outputs": [
    {
     "name": "stdout",
     "output_type": "stream",
     "text": [
      "<class 'pandas.core.frame.DataFrame'>\n",
      "RangeIndex: 137 entries, 0 to 136\n",
      "Data columns (total 5 columns):\n",
      " #   Column           Non-Null Count  Dtype  \n",
      "---  ------           --------------  -----  \n",
      " 0   Dni_od_zakupu    137 non-null    int64  \n",
      " 1   Marka            137 non-null    object \n",
      " 2   Wiek_kupujacego  137 non-null    float64\n",
      " 3   Plec_kupujacego  137 non-null    object \n",
      " 4   Ocena            137 non-null    float64\n",
      "dtypes: float64(2), int64(1), object(2)\n",
      "memory usage: 5.5+ KB\n"
     ]
    }
   ],
   "source": [
    "# Informacje od dataframie kobiet\n",
    "danewoman.info()"
   ]
  },
  {
   "cell_type": "code",
   "execution_count": 81,
   "metadata": {},
   "outputs": [
    {
     "data": {
      "text/html": [
       "<div>\n",
       "<style scoped>\n",
       "    .dataframe tbody tr th:only-of-type {\n",
       "        vertical-align: middle;\n",
       "    }\n",
       "\n",
       "    .dataframe tbody tr th {\n",
       "        vertical-align: top;\n",
       "    }\n",
       "\n",
       "    .dataframe thead th {\n",
       "        text-align: right;\n",
       "    }\n",
       "</style>\n",
       "<table border=\"1\" class=\"dataframe\">\n",
       "  <thead>\n",
       "    <tr style=\"text-align: right;\">\n",
       "      <th></th>\n",
       "      <th>Dni_od_zakupu</th>\n",
       "      <th>Wiek_kupujacego</th>\n",
       "      <th>Ocena</th>\n",
       "    </tr>\n",
       "  </thead>\n",
       "  <tbody>\n",
       "    <tr>\n",
       "      <th>count</th>\n",
       "      <td>123.000000</td>\n",
       "      <td>123.000000</td>\n",
       "      <td>123.000000</td>\n",
       "    </tr>\n",
       "    <tr>\n",
       "      <th>mean</th>\n",
       "      <td>7.130081</td>\n",
       "      <td>39.203252</td>\n",
       "      <td>2.617886</td>\n",
       "    </tr>\n",
       "    <tr>\n",
       "      <th>std</th>\n",
       "      <td>3.051362</td>\n",
       "      <td>10.201221</td>\n",
       "      <td>1.040337</td>\n",
       "    </tr>\n",
       "    <tr>\n",
       "      <th>min</th>\n",
       "      <td>1.000000</td>\n",
       "      <td>19.000000</td>\n",
       "      <td>0.000000</td>\n",
       "    </tr>\n",
       "    <tr>\n",
       "      <th>25%</th>\n",
       "      <td>5.000000</td>\n",
       "      <td>32.500000</td>\n",
       "      <td>2.000000</td>\n",
       "    </tr>\n",
       "    <tr>\n",
       "      <th>50%</th>\n",
       "      <td>7.000000</td>\n",
       "      <td>40.000000</td>\n",
       "      <td>2.500000</td>\n",
       "    </tr>\n",
       "    <tr>\n",
       "      <th>75%</th>\n",
       "      <td>8.000000</td>\n",
       "      <td>46.000000</td>\n",
       "      <td>3.250000</td>\n",
       "    </tr>\n",
       "    <tr>\n",
       "      <th>max</th>\n",
       "      <td>17.000000</td>\n",
       "      <td>71.000000</td>\n",
       "      <td>5.000000</td>\n",
       "    </tr>\n",
       "  </tbody>\n",
       "</table>\n",
       "</div>"
      ],
      "text/plain": [
       "       Dni_od_zakupu  Wiek_kupujacego       Ocena\n",
       "count     123.000000       123.000000  123.000000\n",
       "mean        7.130081        39.203252    2.617886\n",
       "std         3.051362        10.201221    1.040337\n",
       "min         1.000000        19.000000    0.000000\n",
       "25%         5.000000        32.500000    2.000000\n",
       "50%         7.000000        40.000000    2.500000\n",
       "75%         8.000000        46.000000    3.250000\n",
       "max        17.000000        71.000000    5.000000"
      ]
     },
     "execution_count": 81,
     "metadata": {},
     "output_type": "execute_result"
    }
   ],
   "source": [
    "# Podstawowy opis calego DataFramu meżczyzn\n",
    "daneman.describe()"
   ]
  },
  {
   "cell_type": "code",
   "execution_count": 82,
   "metadata": {},
   "outputs": [
    {
     "data": {
      "text/html": [
       "<div>\n",
       "<style scoped>\n",
       "    .dataframe tbody tr th:only-of-type {\n",
       "        vertical-align: middle;\n",
       "    }\n",
       "\n",
       "    .dataframe tbody tr th {\n",
       "        vertical-align: top;\n",
       "    }\n",
       "\n",
       "    .dataframe thead th {\n",
       "        text-align: right;\n",
       "    }\n",
       "</style>\n",
       "<table border=\"1\" class=\"dataframe\">\n",
       "  <thead>\n",
       "    <tr style=\"text-align: right;\">\n",
       "      <th></th>\n",
       "      <th>Dni_od_zakupu</th>\n",
       "      <th>Wiek_kupujacego</th>\n",
       "      <th>Ocena</th>\n",
       "    </tr>\n",
       "  </thead>\n",
       "  <tbody>\n",
       "    <tr>\n",
       "      <th>count</th>\n",
       "      <td>137.000000</td>\n",
       "      <td>137.000000</td>\n",
       "      <td>137.000000</td>\n",
       "    </tr>\n",
       "    <tr>\n",
       "      <th>mean</th>\n",
       "      <td>7.029197</td>\n",
       "      <td>39.489051</td>\n",
       "      <td>2.390511</td>\n",
       "    </tr>\n",
       "    <tr>\n",
       "      <th>std</th>\n",
       "      <td>2.467261</td>\n",
       "      <td>9.947743</td>\n",
       "      <td>1.110967</td>\n",
       "    </tr>\n",
       "    <tr>\n",
       "      <th>min</th>\n",
       "      <td>1.000000</td>\n",
       "      <td>18.000000</td>\n",
       "      <td>0.000000</td>\n",
       "    </tr>\n",
       "    <tr>\n",
       "      <th>25%</th>\n",
       "      <td>6.000000</td>\n",
       "      <td>32.000000</td>\n",
       "      <td>1.500000</td>\n",
       "    </tr>\n",
       "    <tr>\n",
       "      <th>50%</th>\n",
       "      <td>7.000000</td>\n",
       "      <td>39.000000</td>\n",
       "      <td>2.500000</td>\n",
       "    </tr>\n",
       "    <tr>\n",
       "      <th>75%</th>\n",
       "      <td>8.000000</td>\n",
       "      <td>46.000000</td>\n",
       "      <td>3.000000</td>\n",
       "    </tr>\n",
       "    <tr>\n",
       "      <th>max</th>\n",
       "      <td>14.000000</td>\n",
       "      <td>64.000000</td>\n",
       "      <td>5.000000</td>\n",
       "    </tr>\n",
       "  </tbody>\n",
       "</table>\n",
       "</div>"
      ],
      "text/plain": [
       "       Dni_od_zakupu  Wiek_kupujacego       Ocena\n",
       "count     137.000000       137.000000  137.000000\n",
       "mean        7.029197        39.489051    2.390511\n",
       "std         2.467261         9.947743    1.110967\n",
       "min         1.000000        18.000000    0.000000\n",
       "25%         6.000000        32.000000    1.500000\n",
       "50%         7.000000        39.000000    2.500000\n",
       "75%         8.000000        46.000000    3.000000\n",
       "max        14.000000        64.000000    5.000000"
      ]
     },
     "execution_count": 82,
     "metadata": {},
     "output_type": "execute_result"
    }
   ],
   "source": [
    "# Podstawowy opis calego DataFramu konbiet\n",
    "danewoman.describe()"
   ]
  },
  {
   "cell_type": "code",
   "execution_count": 83,
   "metadata": {},
   "outputs": [],
   "source": [
    "def plot_hist(df: pd.DataFrame, column: str, bins: int,\n",
    "              title: str, x_label: str, y_label: str,\n",
    "              alpha: float =0.8, rwidth: float=0.9):\n",
    "              \n",
    "    fig, ax = plt.subplots(figsize=(15, 10))\n",
    "    n, bins, patches = ax.hist(df[column], bins=bins, alpha=alpha, rwidth=rwidth)\n",
    "    plt.grid()\n",
    "    plt.title(title, fontsize=25)\n",
    "    plt.xlabel(x_label, fontsize=15)\n",
    "    plt.ylabel(y_label, fontsize=15)\n",
    "    plt.show()\n",
    "    fig.savefig(\"C:/Users/jakub/Desktop/repo AIBD\\AiBD-sem-5/lab6\" + f\"/{title}.png\")"
   ]
  },
  {
   "cell_type": "code",
   "execution_count": 84,
   "metadata": {},
   "outputs": [
    {
     "data": {
      "image/png": "[encoded data removed]",
      "text/plain": [
       "<Figure size 1080x720 with 1 Axes>"
      ]
     },
     "metadata": {
      "needs_background": "light"
     },
     "output_type": "display_data"
    },
    {
     "data": {
      "image/png": "[encoded data removed]",
      "text/plain": [
       "<Figure size 1080x720 with 1 Axes>"
      ]
     },
     "metadata": {
      "needs_background": "light"
     },
     "output_type": "display_data"
    }
   ],
   "source": [
    "plot_hist(daneman, 'Marka', bins=9, title=\"Marka odkurzacza dla mezczyzn\", x_label=\"Marka\", y_label=\"Ilość produktów danej marki\")\n",
    "plot_hist(danewoman, 'Marka', bins=9, title=\"Marka odkurzacza dla kobiet\", x_label=\"Marka\", y_label=\"Ilość produktów danej marki\")"
   ]
  },
  {
   "cell_type": "code",
   "execution_count": 85,
   "metadata": {},
   "outputs": [
    {
     "data": {
      "image/png": "[encoded data removed]",
      "text/plain": [
       "<Figure size 1080x720 with 1 Axes>"
      ]
     },
     "metadata": {
      "needs_background": "light"
     },
     "output_type": "display_data"
    },
    {
     "data": {
      "image/png": "[encoded data removed]",
      "text/plain": [
       "<Figure size 1080x720 with 1 Axes>"
      ]
     },
     "metadata": {
      "needs_background": "light"
     },
     "output_type": "display_data"
    }
   ],
   "source": [
    "plot_hist(daneman, \"Dni_od_zakupu\", bins=15, title=\"Dni od zakupu mezczyzni\", x_label=\"Dni\", y_label=\"Liczba zamówień\")\n",
    "plot_hist(danewoman, \"Dni_od_zakupu\", bins=15, title=\"Dni od zakupu kobiety\", x_label=\"Dni\", y_label=\"Liczba zamówień\")"
   ]
  },
  {
   "cell_type": "code",
   "execution_count": 86,
   "metadata": {},
   "outputs": [
    {
     "data": {
      "image/png": "[encoded data removed]",
      "text/plain": [
       "<Figure size 1080x720 with 1 Axes>"
      ]
     },
     "metadata": {
      "needs_background": "light"
     },
     "output_type": "display_data"
    },
    {
     "data": {
      "image/png": "[encoded data removed]",
      "text/plain": [
       "<Figure size 1080x720 with 1 Axes>"
      ]
     },
     "metadata": {
      "needs_background": "light"
     },
     "output_type": "display_data"
    }
   ],
   "source": [
    "plot_hist(daneman, 'Ocena', bins=10, title=\"Rozklad ocen mezczyzni\", x_label=\"Oceny\", y_label=\"Liczba ocen\", rwidth=0.75)\n",
    "plot_hist(danewoman, 'Ocena', bins=10, title=\"Rozklad ocen kobiety\", x_label=\"Oceny\", y_label=\"Liczba ocen\", rwidth=0.75)"
   ]
  },
  {
   "cell_type": "code",
   "execution_count": 87,
   "metadata": {},
   "outputs": [
    {
     "data": {
      "image/png": "[encoded data removed]",
      "text/plain": [
       "<Figure size 1080x432 with 1 Axes>"
      ]
     },
     "metadata": {},
     "output_type": "display_data"
    }
   ],
   "source": [
    "fig, ax = plt.subplots(1, figsize=(15, 6), facecolor=facecolor)\n",
    "ax.set_facecolor(facecolor)\n",
    "wiek_kupujacego_m = daneman[\"Wiek_kupujacego\"].value_counts(dropna=False).sort_index(ascending=True, na_position='first')\n",
    "wiek_kupujacego_m.plot.bar(grid=True)\n",
    "plt.title(\"Wiek Kupujacego mezczyzny\", fontsize=20)\n",
    "plt.xlabel(\"Wiek\", fontsize=18)\n",
    "plt.ylabel(\"Liczba osób\", fontsize=18)\n",
    "fig.savefig(\"C:/Users/jakub/Desktop/repo AIBD\\AiBD-sem-5/lab6/Wiek Kupujacego mezczyzny.png\")"
   ]
  },
  {
   "cell_type": "code",
   "execution_count": 88,
   "metadata": {},
   "outputs": [
    {
     "data": {
      "image/png": "[encoded data removed]",
      "text/plain": [
       "<Figure size 1080x432 with 1 Axes>"
      ]
     },
     "metadata": {},
     "output_type": "display_data"
    }
   ],
   "source": [
    "fig, ax = plt.subplots(1, figsize=(15, 6), facecolor=facecolor)\n",
    "ax.set_facecolor(facecolor)\n",
    "wiek_kupujacego_k = danewoman[\"Wiek_kupujacego\"].value_counts(dropna=False).sort_index(ascending=True, na_position='first')\n",
    "wiek_kupujacego_k.plot.bar(grid=True)\n",
    "plt.title(\"Wiek Kupujacej kobiety\", fontsize=20)\n",
    "plt.xlabel(\"Wiek\", fontsize=18)\n",
    "plt.ylabel(\"Liczba osób\", fontsize=18)\n",
    "fig.savefig(\"C:/Users/jakub/Desktop/repo AIBD\\AiBD-sem-5/lab6/Wiek Kupujacej kobiety.png\")"
   ]
  },
  {
   "cell_type": "markdown",
   "metadata": {},
   "source": [
    "Podsumowujac to zdanie, dostajac csv z danymi osob ktore zakupily odkurzacz danej marki zrobilem nastepujace rzeczy:\n",
    "- wczytalem plik do dataframe'u,\n",
    "- usunalem wiersze, ktore nie dawaly zadnej informacji o wieku czy plci kupujacego,\n",
    "- podzielilem dataframe na dwa osobne w zaleznosci od plci,\n",
    "- wyplotowalem histogramy (ilosci osob danj plci w zaleznosci od marki produktu, dni od zakupu w zaleznosci od ilosci zamowien, rozkladu ocen czy tez wieku dla poszczegolnych plci i ilosci osob w danym wieku)<br><br>\n",
    "To ćwiczenie nauczyło mnie przygotowywac Data appendix i opisywac metadane. Moglem sobie rowniez przypomniec jak korzystac z mathplotlib'a."
   ]
  }
 ],
 "metadata": {
  "kernelspec": {
   "display_name": "Python 3.9.12 ('AIBD')",
   "language": "python",
   "name": "python3"
  },
  "language_info": {
   "codemirror_mode": {
    "name": "ipython",
    "version": 3
   },
   "file_extension": ".py",
   "mimetype": "text/x-python",
   "name": "python",
   "nbconvert_exporter": "python",
   "pygments_lexer": "ipython3",
   "version": "3.9.12"
  },
  "orig_nbformat": 4,
  "vscode": {
   "interpreter": {
    "hash": "50afa05c57fdbefd0e663c90dad9857c0cebcc6821222ea89d776f89b8947e4f"
   }
  }
 },
 "nbformat": 4,
 "nbformat_minor": 2
}
